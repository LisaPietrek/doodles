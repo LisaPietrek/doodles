{
 "cells": [
  {
   "cell_type": "markdown",
   "id": "98edc6af-5462-4837-aac1-48c24bf80c64",
   "metadata": {},
   "source": [
    "# Cancer Risk Prediction\n",
    "\n",
    "Follow exercise 2 from **“Hands-On Machine Learning with Scikit-Learn, Keras, and TensorFlow” by Aurélien Géron. Copyright 2023 Aurélien Géron, 978-1-098-12597-4**, but with a differernt data set of choice. I used \"cancer-risk-factors\" from Kaggle.com (https://www.kaggle.com/datasets/tarekmasryo/cancer-risk-factors-dataset/data)."
   ]
  },
  {
   "cell_type": "code",
   "execution_count": 1,
   "id": "caeff029-76e7-4748-ac90-4fba090da292",
   "metadata": {},
   "outputs": [],
   "source": [
    "import pandas as pd\n",
    "import numpy as np\n",
    "import sklearn\n",
    "import sys, os\n",
    "import matplotlib.pyplot as plt\n",
    "%matplotlib inline"
   ]
  },
  {
   "cell_type": "code",
   "execution_count": 50,
   "id": "997db046-c3d2-44a8-a15e-2dbfbb129a95",
   "metadata": {},
   "outputs": [],
   "source": [
    "# default sizes for plotting\n",
    "\n",
    "plt.rc('font', size=13)\n",
    "plt.rc('axes', labelsize=13, titlesize=13)\n",
    "plt.rc('legend', fontsize=13)\n",
    "plt.rc('xtick', labelsize=11)\n",
    "plt.rc('ytick', labelsize=11)\n"
   ]
  },
  {
   "cell_type": "markdown",
   "id": "5a167f4b-7761-4f02-ba99-9185f18303eb",
   "metadata": {},
   "source": [
    "## get the data \n",
    "\n",
    "Load and have a look at the daata"
   ]
  },
  {
   "cell_type": "markdown",
   "id": "4d154b07-0433-4340-b16b-1ebfa0031117",
   "metadata": {},
   "source": [
    "### load the data"
   ]
  },
  {
   "cell_type": "code",
   "execution_count": 3,
   "id": "50a8272f-1af7-46c8-a7ab-40e906b803c9",
   "metadata": {},
   "outputs": [],
   "source": [
    "file_path = './cancer-risk-factors.csv'\n",
    "\n",
    "# Load the dataset using a try-except block to handle potential file errors\n",
    "try:\n",
    "    cancer_risk_factors = pd.read_csv(file_path)\n",
    "except FileNotFoundError:\n",
    "    print(f\"ERROR: No such file: {file_path}\")"
   ]
  },
  {
   "cell_type": "markdown",
   "id": "8ddc3e75-7dc7-4e3c-8962-0c528f9794b4",
   "metadata": {},
   "source": [
    "### take a look at the data strcture"
   ]
  },
  {
   "cell_type": "code",
   "execution_count": 4,
   "id": "e1c79dc7-19b4-4d4f-a344-580432f1b511",
   "metadata": {},
   "outputs": [
    {
     "name": "stdout",
     "output_type": "stream",
     "text": [
      "<class 'pandas.core.frame.DataFrame'>\n",
      "RangeIndex: 2000 entries, 0 to 1999\n",
      "Data columns (total 21 columns):\n",
      " #   Column                   Non-Null Count  Dtype  \n",
      "---  ------                   --------------  -----  \n",
      " 0   Patient_ID               2000 non-null   object \n",
      " 1   Cancer_Type              2000 non-null   object \n",
      " 2   Age                      2000 non-null   int64  \n",
      " 3   Gender                   2000 non-null   int64  \n",
      " 4   Smoking                  2000 non-null   int64  \n",
      " 5   Alcohol_Use              2000 non-null   int64  \n",
      " 6   Obesity                  2000 non-null   int64  \n",
      " 7   Family_History           2000 non-null   int64  \n",
      " 8   Diet_Red_Meat            2000 non-null   int64  \n",
      " 9   Diet_Salted_Processed    2000 non-null   int64  \n",
      " 10  Fruit_Veg_Intake         2000 non-null   int64  \n",
      " 11  Physical_Activity        2000 non-null   int64  \n",
      " 12  Air_Pollution            2000 non-null   int64  \n",
      " 13  Occupational_Hazards     2000 non-null   int64  \n",
      " 14  BRCA_Mutation            2000 non-null   int64  \n",
      " 15  H_Pylori_Infection       2000 non-null   int64  \n",
      " 16  Calcium_Intake           2000 non-null   int64  \n",
      " 17  Overall_Risk_Score       2000 non-null   float64\n",
      " 18  BMI                      2000 non-null   float64\n",
      " 19  Physical_Activity_Level  2000 non-null   int64  \n",
      " 20  Risk_Level               2000 non-null   object \n",
      "dtypes: float64(2), int64(16), object(3)\n",
      "memory usage: 328.3+ KB\n"
     ]
    }
   ],
   "source": [
    "cancer_risk_factors.info()"
   ]
  },
  {
   "cell_type": "code",
   "execution_count": 5,
   "id": "60d6bbae-97eb-498b-9346-b9236175b98f",
   "metadata": {},
   "outputs": [
    {
     "data": {
      "text/html": [
       "<div>\n",
       "<style scoped>\n",
       "    .dataframe tbody tr th:only-of-type {\n",
       "        vertical-align: middle;\n",
       "    }\n",
       "\n",
       "    .dataframe tbody tr th {\n",
       "        vertical-align: top;\n",
       "    }\n",
       "\n",
       "    .dataframe thead th {\n",
       "        text-align: right;\n",
       "    }\n",
       "</style>\n",
       "<table border=\"1\" class=\"dataframe\">\n",
       "  <thead>\n",
       "    <tr style=\"text-align: right;\">\n",
       "      <th></th>\n",
       "      <th>Patient_ID</th>\n",
       "      <th>Cancer_Type</th>\n",
       "      <th>Age</th>\n",
       "      <th>Gender</th>\n",
       "      <th>Smoking</th>\n",
       "      <th>Alcohol_Use</th>\n",
       "      <th>Obesity</th>\n",
       "      <th>Family_History</th>\n",
       "      <th>Diet_Red_Meat</th>\n",
       "      <th>Diet_Salted_Processed</th>\n",
       "      <th>...</th>\n",
       "      <th>Physical_Activity</th>\n",
       "      <th>Air_Pollution</th>\n",
       "      <th>Occupational_Hazards</th>\n",
       "      <th>BRCA_Mutation</th>\n",
       "      <th>H_Pylori_Infection</th>\n",
       "      <th>Calcium_Intake</th>\n",
       "      <th>Overall_Risk_Score</th>\n",
       "      <th>BMI</th>\n",
       "      <th>Physical_Activity_Level</th>\n",
       "      <th>Risk_Level</th>\n",
       "    </tr>\n",
       "  </thead>\n",
       "  <tbody>\n",
       "    <tr>\n",
       "      <th>0</th>\n",
       "      <td>LU0000</td>\n",
       "      <td>Breast</td>\n",
       "      <td>68</td>\n",
       "      <td>0</td>\n",
       "      <td>7</td>\n",
       "      <td>2</td>\n",
       "      <td>8</td>\n",
       "      <td>0</td>\n",
       "      <td>5</td>\n",
       "      <td>3</td>\n",
       "      <td>...</td>\n",
       "      <td>4</td>\n",
       "      <td>6</td>\n",
       "      <td>3</td>\n",
       "      <td>1</td>\n",
       "      <td>0</td>\n",
       "      <td>0</td>\n",
       "      <td>0.398696</td>\n",
       "      <td>28.0</td>\n",
       "      <td>5</td>\n",
       "      <td>Medium</td>\n",
       "    </tr>\n",
       "    <tr>\n",
       "      <th>1</th>\n",
       "      <td>LU0001</td>\n",
       "      <td>Prostate</td>\n",
       "      <td>74</td>\n",
       "      <td>1</td>\n",
       "      <td>8</td>\n",
       "      <td>9</td>\n",
       "      <td>8</td>\n",
       "      <td>0</td>\n",
       "      <td>0</td>\n",
       "      <td>3</td>\n",
       "      <td>...</td>\n",
       "      <td>1</td>\n",
       "      <td>3</td>\n",
       "      <td>3</td>\n",
       "      <td>0</td>\n",
       "      <td>0</td>\n",
       "      <td>5</td>\n",
       "      <td>0.424299</td>\n",
       "      <td>25.4</td>\n",
       "      <td>9</td>\n",
       "      <td>Medium</td>\n",
       "    </tr>\n",
       "    <tr>\n",
       "      <th>2</th>\n",
       "      <td>LU0002</td>\n",
       "      <td>Skin</td>\n",
       "      <td>55</td>\n",
       "      <td>1</td>\n",
       "      <td>7</td>\n",
       "      <td>10</td>\n",
       "      <td>7</td>\n",
       "      <td>0</td>\n",
       "      <td>3</td>\n",
       "      <td>3</td>\n",
       "      <td>...</td>\n",
       "      <td>1</td>\n",
       "      <td>8</td>\n",
       "      <td>10</td>\n",
       "      <td>0</td>\n",
       "      <td>0</td>\n",
       "      <td>6</td>\n",
       "      <td>0.605082</td>\n",
       "      <td>28.6</td>\n",
       "      <td>2</td>\n",
       "      <td>Medium</td>\n",
       "    </tr>\n",
       "    <tr>\n",
       "      <th>3</th>\n",
       "      <td>LU0003</td>\n",
       "      <td>Colon</td>\n",
       "      <td>61</td>\n",
       "      <td>0</td>\n",
       "      <td>6</td>\n",
       "      <td>2</td>\n",
       "      <td>2</td>\n",
       "      <td>0</td>\n",
       "      <td>6</td>\n",
       "      <td>2</td>\n",
       "      <td>...</td>\n",
       "      <td>6</td>\n",
       "      <td>4</td>\n",
       "      <td>8</td>\n",
       "      <td>0</td>\n",
       "      <td>0</td>\n",
       "      <td>8</td>\n",
       "      <td>0.318449</td>\n",
       "      <td>32.1</td>\n",
       "      <td>7</td>\n",
       "      <td>Low</td>\n",
       "    </tr>\n",
       "    <tr>\n",
       "      <th>4</th>\n",
       "      <td>LU0004</td>\n",
       "      <td>Lung</td>\n",
       "      <td>67</td>\n",
       "      <td>1</td>\n",
       "      <td>10</td>\n",
       "      <td>7</td>\n",
       "      <td>4</td>\n",
       "      <td>0</td>\n",
       "      <td>6</td>\n",
       "      <td>3</td>\n",
       "      <td>...</td>\n",
       "      <td>9</td>\n",
       "      <td>10</td>\n",
       "      <td>9</td>\n",
       "      <td>0</td>\n",
       "      <td>0</td>\n",
       "      <td>5</td>\n",
       "      <td>0.524358</td>\n",
       "      <td>25.1</td>\n",
       "      <td>2</td>\n",
       "      <td>Medium</td>\n",
       "    </tr>\n",
       "  </tbody>\n",
       "</table>\n",
       "<p>5 rows × 21 columns</p>\n",
       "</div>"
      ],
      "text/plain": [
       "  Patient_ID Cancer_Type  Age  Gender  Smoking  Alcohol_Use  Obesity  \\\n",
       "0     LU0000      Breast   68       0        7            2        8   \n",
       "1     LU0001    Prostate   74       1        8            9        8   \n",
       "2     LU0002        Skin   55       1        7           10        7   \n",
       "3     LU0003       Colon   61       0        6            2        2   \n",
       "4     LU0004        Lung   67       1       10            7        4   \n",
       "\n",
       "   Family_History  Diet_Red_Meat  Diet_Salted_Processed  ...  \\\n",
       "0               0              5                      3  ...   \n",
       "1               0              0                      3  ...   \n",
       "2               0              3                      3  ...   \n",
       "3               0              6                      2  ...   \n",
       "4               0              6                      3  ...   \n",
       "\n",
       "   Physical_Activity  Air_Pollution  Occupational_Hazards  BRCA_Mutation  \\\n",
       "0                  4              6                     3              1   \n",
       "1                  1              3                     3              0   \n",
       "2                  1              8                    10              0   \n",
       "3                  6              4                     8              0   \n",
       "4                  9             10                     9              0   \n",
       "\n",
       "   H_Pylori_Infection  Calcium_Intake  Overall_Risk_Score   BMI  \\\n",
       "0                   0               0            0.398696  28.0   \n",
       "1                   0               5            0.424299  25.4   \n",
       "2                   0               6            0.605082  28.6   \n",
       "3                   0               8            0.318449  32.1   \n",
       "4                   0               5            0.524358  25.1   \n",
       "\n",
       "   Physical_Activity_Level  Risk_Level  \n",
       "0                        5      Medium  \n",
       "1                        9      Medium  \n",
       "2                        2      Medium  \n",
       "3                        7         Low  \n",
       "4                        2      Medium  \n",
       "\n",
       "[5 rows x 21 columns]"
      ]
     },
     "execution_count": 5,
     "metadata": {},
     "output_type": "execute_result"
    }
   ],
   "source": [
    "cancer_risk_factors.head()"
   ]
  },
  {
   "cell_type": "code",
   "execution_count": 6,
   "id": "6df88fef-f1e9-455b-ba87-fb4ff571f4af",
   "metadata": {},
   "outputs": [
    {
     "data": {
      "text/plain": [
       "Patient_ID\n",
       "LU0000    1\n",
       "PR0129    1\n",
       "PR0142    1\n",
       "PR0141    1\n",
       "PR0140    1\n",
       "         ..\n",
       "BR0261    1\n",
       "BR0260    1\n",
       "BR0259    1\n",
       "BR0258    1\n",
       "ST0399    1\n",
       "Name: count, Length: 2000, dtype: int64"
      ]
     },
     "execution_count": 6,
     "metadata": {},
     "output_type": "execute_result"
    }
   ],
   "source": [
    "# check categories in non-numerical features\n",
    "cancer_risk_factors['Patient_ID'].value_counts()"
   ]
  },
  {
   "cell_type": "code",
   "execution_count": 7,
   "id": "53131b02-c176-439d-9c29-f2b6332d781e",
   "metadata": {},
   "outputs": [
    {
     "data": {
      "text/plain": [
       "Cancer_Type\n",
       "Lung        527\n",
       "Breast      460\n",
       "Colon       418\n",
       "Prostate    305\n",
       "Skin        290\n",
       "Name: count, dtype: int64"
      ]
     },
     "execution_count": 7,
     "metadata": {},
     "output_type": "execute_result"
    }
   ],
   "source": [
    "cancer_risk_factors['Cancer_Type'].value_counts()"
   ]
  },
  {
   "cell_type": "code",
   "execution_count": 8,
   "id": "f6c0b784-9c42-4b58-be7b-1bc840f5b8c2",
   "metadata": {},
   "outputs": [
    {
     "data": {
      "text/plain": [
       "Risk_Level\n",
       "Medium    1574\n",
       "Low        324\n",
       "High       102\n",
       "Name: count, dtype: int64"
      ]
     },
     "execution_count": 8,
     "metadata": {},
     "output_type": "execute_result"
    }
   ],
   "source": [
    "cancer_risk_factors['Risk_Level'].value_counts()"
   ]
  },
  {
   "cell_type": "code",
   "execution_count": 9,
   "id": "4240ae89-2cc9-40b1-9bdd-9c49c2567b8c",
   "metadata": {},
   "outputs": [
    {
     "data": {
      "text/html": [
       "<div>\n",
       "<style scoped>\n",
       "    .dataframe tbody tr th:only-of-type {\n",
       "        vertical-align: middle;\n",
       "    }\n",
       "\n",
       "    .dataframe tbody tr th {\n",
       "        vertical-align: top;\n",
       "    }\n",
       "\n",
       "    .dataframe thead th {\n",
       "        text-align: right;\n",
       "    }\n",
       "</style>\n",
       "<table border=\"1\" class=\"dataframe\">\n",
       "  <thead>\n",
       "    <tr style=\"text-align: right;\">\n",
       "      <th></th>\n",
       "      <th>Age</th>\n",
       "      <th>Gender</th>\n",
       "      <th>Smoking</th>\n",
       "      <th>Alcohol_Use</th>\n",
       "      <th>Obesity</th>\n",
       "      <th>Family_History</th>\n",
       "      <th>Diet_Red_Meat</th>\n",
       "      <th>Diet_Salted_Processed</th>\n",
       "      <th>Fruit_Veg_Intake</th>\n",
       "      <th>Physical_Activity</th>\n",
       "      <th>Air_Pollution</th>\n",
       "      <th>Occupational_Hazards</th>\n",
       "      <th>BRCA_Mutation</th>\n",
       "      <th>H_Pylori_Infection</th>\n",
       "      <th>Calcium_Intake</th>\n",
       "      <th>Overall_Risk_Score</th>\n",
       "      <th>BMI</th>\n",
       "      <th>Physical_Activity_Level</th>\n",
       "    </tr>\n",
       "  </thead>\n",
       "  <tbody>\n",
       "    <tr>\n",
       "      <th>count</th>\n",
       "      <td>2000.000000</td>\n",
       "      <td>2000.000000</td>\n",
       "      <td>2000.000000</td>\n",
       "      <td>2000.000000</td>\n",
       "      <td>2000.000000</td>\n",
       "      <td>2000.000000</td>\n",
       "      <td>2000.000000</td>\n",
       "      <td>2000.000000</td>\n",
       "      <td>2000.000000</td>\n",
       "      <td>2000.000000</td>\n",
       "      <td>2000.000000</td>\n",
       "      <td>2000.000000</td>\n",
       "      <td>2000.000000</td>\n",
       "      <td>2000.00000</td>\n",
       "      <td>2000.00000</td>\n",
       "      <td>2000.000000</td>\n",
       "      <td>2000.000000</td>\n",
       "      <td>2000.000000</td>\n",
       "    </tr>\n",
       "    <tr>\n",
       "      <th>mean</th>\n",
       "      <td>63.248000</td>\n",
       "      <td>0.489000</td>\n",
       "      <td>5.157000</td>\n",
       "      <td>5.035000</td>\n",
       "      <td>5.967500</td>\n",
       "      <td>0.194500</td>\n",
       "      <td>5.189500</td>\n",
       "      <td>4.563500</td>\n",
       "      <td>4.927500</td>\n",
       "      <td>4.015000</td>\n",
       "      <td>5.323000</td>\n",
       "      <td>4.979000</td>\n",
       "      <td>0.032500</td>\n",
       "      <td>0.19650</td>\n",
       "      <td>3.94050</td>\n",
       "      <td>0.454449</td>\n",
       "      <td>26.183350</td>\n",
       "      <td>4.938500</td>\n",
       "    </tr>\n",
       "    <tr>\n",
       "      <th>std</th>\n",
       "      <td>10.462946</td>\n",
       "      <td>0.500004</td>\n",
       "      <td>3.325339</td>\n",
       "      <td>3.260996</td>\n",
       "      <td>3.061393</td>\n",
       "      <td>0.395914</td>\n",
       "      <td>3.154452</td>\n",
       "      <td>3.088323</td>\n",
       "      <td>3.045305</td>\n",
       "      <td>2.978458</td>\n",
       "      <td>3.207462</td>\n",
       "      <td>3.212899</td>\n",
       "      <td>0.177368</td>\n",
       "      <td>0.39745</td>\n",
       "      <td>3.04887</td>\n",
       "      <td>0.123074</td>\n",
       "      <td>3.947459</td>\n",
       "      <td>3.166027</td>\n",
       "    </tr>\n",
       "    <tr>\n",
       "      <th>min</th>\n",
       "      <td>25.000000</td>\n",
       "      <td>0.000000</td>\n",
       "      <td>0.000000</td>\n",
       "      <td>0.000000</td>\n",
       "      <td>0.000000</td>\n",
       "      <td>0.000000</td>\n",
       "      <td>0.000000</td>\n",
       "      <td>0.000000</td>\n",
       "      <td>0.000000</td>\n",
       "      <td>0.000000</td>\n",
       "      <td>0.000000</td>\n",
       "      <td>0.000000</td>\n",
       "      <td>0.000000</td>\n",
       "      <td>0.00000</td>\n",
       "      <td>0.00000</td>\n",
       "      <td>0.029285</td>\n",
       "      <td>15.000000</td>\n",
       "      <td>0.000000</td>\n",
       "    </tr>\n",
       "    <tr>\n",
       "      <th>25%</th>\n",
       "      <td>56.000000</td>\n",
       "      <td>0.000000</td>\n",
       "      <td>2.000000</td>\n",
       "      <td>2.000000</td>\n",
       "      <td>4.000000</td>\n",
       "      <td>0.000000</td>\n",
       "      <td>3.000000</td>\n",
       "      <td>2.000000</td>\n",
       "      <td>3.000000</td>\n",
       "      <td>1.000000</td>\n",
       "      <td>3.000000</td>\n",
       "      <td>2.000000</td>\n",
       "      <td>0.000000</td>\n",
       "      <td>0.00000</td>\n",
       "      <td>1.00000</td>\n",
       "      <td>0.366982</td>\n",
       "      <td>23.500000</td>\n",
       "      <td>2.000000</td>\n",
       "    </tr>\n",
       "    <tr>\n",
       "      <th>50%</th>\n",
       "      <td>64.000000</td>\n",
       "      <td>0.000000</td>\n",
       "      <td>5.000000</td>\n",
       "      <td>5.000000</td>\n",
       "      <td>6.000000</td>\n",
       "      <td>0.000000</td>\n",
       "      <td>5.000000</td>\n",
       "      <td>4.000000</td>\n",
       "      <td>5.000000</td>\n",
       "      <td>4.000000</td>\n",
       "      <td>5.000000</td>\n",
       "      <td>5.000000</td>\n",
       "      <td>0.000000</td>\n",
       "      <td>0.00000</td>\n",
       "      <td>4.00000</td>\n",
       "      <td>0.455399</td>\n",
       "      <td>26.200000</td>\n",
       "      <td>5.000000</td>\n",
       "    </tr>\n",
       "    <tr>\n",
       "      <th>75%</th>\n",
       "      <td>70.000000</td>\n",
       "      <td>1.000000</td>\n",
       "      <td>8.000000</td>\n",
       "      <td>8.000000</td>\n",
       "      <td>9.000000</td>\n",
       "      <td>0.000000</td>\n",
       "      <td>8.000000</td>\n",
       "      <td>7.000000</td>\n",
       "      <td>8.000000</td>\n",
       "      <td>6.000000</td>\n",
       "      <td>8.000000</td>\n",
       "      <td>8.000000</td>\n",
       "      <td>0.000000</td>\n",
       "      <td>0.00000</td>\n",
       "      <td>6.00000</td>\n",
       "      <td>0.539782</td>\n",
       "      <td>28.700000</td>\n",
       "      <td>8.000000</td>\n",
       "    </tr>\n",
       "    <tr>\n",
       "      <th>max</th>\n",
       "      <td>90.000000</td>\n",
       "      <td>1.000000</td>\n",
       "      <td>10.000000</td>\n",
       "      <td>10.000000</td>\n",
       "      <td>10.000000</td>\n",
       "      <td>1.000000</td>\n",
       "      <td>10.000000</td>\n",
       "      <td>10.000000</td>\n",
       "      <td>10.000000</td>\n",
       "      <td>10.000000</td>\n",
       "      <td>10.000000</td>\n",
       "      <td>10.000000</td>\n",
       "      <td>1.000000</td>\n",
       "      <td>1.00000</td>\n",
       "      <td>10.00000</td>\n",
       "      <td>0.852158</td>\n",
       "      <td>41.400000</td>\n",
       "      <td>10.000000</td>\n",
       "    </tr>\n",
       "  </tbody>\n",
       "</table>\n",
       "</div>"
      ],
      "text/plain": [
       "               Age       Gender      Smoking  Alcohol_Use      Obesity  \\\n",
       "count  2000.000000  2000.000000  2000.000000  2000.000000  2000.000000   \n",
       "mean     63.248000     0.489000     5.157000     5.035000     5.967500   \n",
       "std      10.462946     0.500004     3.325339     3.260996     3.061393   \n",
       "min      25.000000     0.000000     0.000000     0.000000     0.000000   \n",
       "25%      56.000000     0.000000     2.000000     2.000000     4.000000   \n",
       "50%      64.000000     0.000000     5.000000     5.000000     6.000000   \n",
       "75%      70.000000     1.000000     8.000000     8.000000     9.000000   \n",
       "max      90.000000     1.000000    10.000000    10.000000    10.000000   \n",
       "\n",
       "       Family_History  Diet_Red_Meat  Diet_Salted_Processed  Fruit_Veg_Intake  \\\n",
       "count     2000.000000    2000.000000            2000.000000       2000.000000   \n",
       "mean         0.194500       5.189500               4.563500          4.927500   \n",
       "std          0.395914       3.154452               3.088323          3.045305   \n",
       "min          0.000000       0.000000               0.000000          0.000000   \n",
       "25%          0.000000       3.000000               2.000000          3.000000   \n",
       "50%          0.000000       5.000000               4.000000          5.000000   \n",
       "75%          0.000000       8.000000               7.000000          8.000000   \n",
       "max          1.000000      10.000000              10.000000         10.000000   \n",
       "\n",
       "       Physical_Activity  Air_Pollution  Occupational_Hazards  BRCA_Mutation  \\\n",
       "count        2000.000000    2000.000000           2000.000000    2000.000000   \n",
       "mean            4.015000       5.323000              4.979000       0.032500   \n",
       "std             2.978458       3.207462              3.212899       0.177368   \n",
       "min             0.000000       0.000000              0.000000       0.000000   \n",
       "25%             1.000000       3.000000              2.000000       0.000000   \n",
       "50%             4.000000       5.000000              5.000000       0.000000   \n",
       "75%             6.000000       8.000000              8.000000       0.000000   \n",
       "max            10.000000      10.000000             10.000000       1.000000   \n",
       "\n",
       "       H_Pylori_Infection  Calcium_Intake  Overall_Risk_Score          BMI  \\\n",
       "count          2000.00000      2000.00000         2000.000000  2000.000000   \n",
       "mean              0.19650         3.94050            0.454449    26.183350   \n",
       "std               0.39745         3.04887            0.123074     3.947459   \n",
       "min               0.00000         0.00000            0.029285    15.000000   \n",
       "25%               0.00000         1.00000            0.366982    23.500000   \n",
       "50%               0.00000         4.00000            0.455399    26.200000   \n",
       "75%               0.00000         6.00000            0.539782    28.700000   \n",
       "max               1.00000        10.00000            0.852158    41.400000   \n",
       "\n",
       "       Physical_Activity_Level  \n",
       "count              2000.000000  \n",
       "mean                  4.938500  \n",
       "std                   3.166027  \n",
       "min                   0.000000  \n",
       "25%                   2.000000  \n",
       "50%                   5.000000  \n",
       "75%                   8.000000  \n",
       "max                  10.000000  "
      ]
     },
     "execution_count": 9,
     "metadata": {},
     "output_type": "execute_result"
    }
   ],
   "source": [
    "cancer_risk_factors.describe()"
   ]
  },
  {
   "cell_type": "markdown",
   "id": "d06c8faa-9af5-4d07-ab1d-86e190f2d223",
   "metadata": {},
   "source": [
    "#### visualize the data - plot as histograms"
   ]
  },
  {
   "cell_type": "code",
   "execution_count": 10,
   "id": "063306d2-e473-4cb0-85cb-417d521a087b",
   "metadata": {},
   "outputs": [],
   "source": [
    "# handy function to save plots inspired by homl3 exercise 2 "
   ]
  },
  {
   "cell_type": "code",
   "execution_count": 11,
   "id": "c550e9b2-cc98-429e-a77c-fe6aa81cf5a3",
   "metadata": {},
   "outputs": [],
   "source": [
    "img_path = './'"
   ]
  },
  {
   "cell_type": "code",
   "execution_count": 12,
   "id": "c1a78401-3bb5-4473-be25-ad0827bd7e2c",
   "metadata": {},
   "outputs": [],
   "source": [
    "if not os.path.exists(img_path):\n",
    "    ! mkdir $img_path"
   ]
  },
  {
   "cell_type": "code",
   "execution_count": 13,
   "id": "132f87c7-e973-41da-bd10-84ab5111e21e",
   "metadata": {},
   "outputs": [],
   "source": [
    "def save_figs(name, fig_extension='png', resolution=200, img_path=img_path):\n",
    "    path = img_path + f'{name}.{fig_extension}'\n",
    "    plt.savefig(path, format=fig_extension, dpi=resolution)"
   ]
  },
  {
   "cell_type": "code",
   "execution_count": 14,
   "id": "aecdceba-a33f-4f3a-b756-f1108d365085",
   "metadata": {},
   "outputs": [
    {
     "data": {
      "image/png": "[encoded data removed]",
      "text/plain": [
       "<Figure size 1200x900 with 20 Axes>"
      ]
     },
     "metadata": {},
     "output_type": "display_data"
    }
   ],
   "source": [
    "cancer_risk_factors.hist(bins=50, figsize=(12, 9)) # only plots numerical attributes\n",
    "plt.tight_layout()\n",
    "save_figs(\"attribute_histogram_plots\")\n",
    "plt.show()"
   ]
  },
  {
   "cell_type": "markdown",
   "id": "b5b6e318-e2c6-4389-b2b3-82fa2d41b695",
   "metadata": {},
   "source": [
    "### create a test set"
   ]
  },
  {
   "cell_type": "code",
   "execution_count": 15,
   "id": "d6839d8f-1cda-4bb7-8d35-747e0499ebe1",
   "metadata": {},
   "outputs": [],
   "source": [
    "# random seed to ensure results stay the same \n",
    "np.random.seed(42)"
   ]
  },
  {
   "cell_type": "markdown",
   "id": "2b13633a-0cf7-43dc-8422-36d0e34c6aac",
   "metadata": {},
   "source": [
    "Data set large enough relative to number pf features to rely on random sampling methods for splitting data?\n",
    "First try random sampling"
   ]
  },
  {
   "cell_type": "code",
   "execution_count": 16,
   "id": "3852dc51-a2ea-4bb3-9531-3c3c5093bf47",
   "metadata": {},
   "outputs": [],
   "source": [
    "\n",
    "from sklearn.model_selection import train_test_split\n",
    "train_set, test_set = train_test_split(cancer_risk_factors, test_size=0.2, random_state=42)"
   ]
  },
  {
   "cell_type": "code",
   "execution_count": 17,
   "id": "c4a3cec0-d8f1-4230-b202-1fea7b3cdd09",
   "metadata": {},
   "outputs": [
    {
     "data": {
      "text/plain": [
       "count    1600.000000\n",
       "mean        5.987500\n",
       "std         3.080913\n",
       "min         0.000000\n",
       "25%         4.000000\n",
       "50%         6.000000\n",
       "75%         9.000000\n",
       "max        10.000000\n",
       "Name: Obesity, dtype: float64"
      ]
     },
     "execution_count": 17,
     "metadata": {},
     "output_type": "execute_result"
    }
   ],
   "source": [
    "train_set['Obesity'].describe()"
   ]
  },
  {
   "cell_type": "code",
   "execution_count": 18,
   "id": "17f7bc0c-d5fd-4ea9-8702-ec38d60ea744",
   "metadata": {},
   "outputs": [
    {
     "data": {
      "text/plain": [
       "count    2000.000000\n",
       "mean        5.967500\n",
       "std         3.061393\n",
       "min         0.000000\n",
       "25%         4.000000\n",
       "50%         6.000000\n",
       "75%         9.000000\n",
       "max        10.000000\n",
       "Name: Obesity, dtype: float64"
      ]
     },
     "execution_count": 18,
     "metadata": {},
     "output_type": "execute_result"
    }
   ],
   "source": [
    "cancer_risk_factors['Obesity'].describe()"
   ]
  },
  {
   "cell_type": "code",
   "execution_count": 19,
   "id": "544a07fc-1ddf-4a6f-a570-ed7269d47f31",
   "metadata": {},
   "outputs": [
    {
     "data": {
      "text/plain": [
       "776"
      ]
     },
     "execution_count": 19,
     "metadata": {},
     "output_type": "execute_result"
    }
   ],
   "source": [
    "(train_set['Gender'] == 1).sum()"
   ]
  },
  {
   "cell_type": "code",
   "execution_count": 20,
   "id": "b22046bc-56fd-42aa-b003-85135eaf0c48",
   "metadata": {},
   "outputs": [
    {
     "data": {
      "text/plain": [
       "978"
      ]
     },
     "execution_count": 20,
     "metadata": {},
     "output_type": "execute_result"
    }
   ],
   "source": [
    "(cancer_risk_factors['Gender'] == 1).sum()\n"
   ]
  },
  {
   "cell_type": "code",
   "execution_count": 21,
   "id": "418e418f-ab64-435b-aba4-7cbbc6e9d7df",
   "metadata": {},
   "outputs": [
    {
     "data": {
      "text/plain": [
       "155"
      ]
     },
     "execution_count": 21,
     "metadata": {},
     "output_type": "execute_result"
    }
   ],
   "source": [
    "(train_set['Smoking'] == 1).sum()"
   ]
  },
  {
   "cell_type": "code",
   "execution_count": 22,
   "id": "0777b676-a729-43a1-aa62-4ad0cfa58c74",
   "metadata": {},
   "outputs": [
    {
     "data": {
      "text/plain": [
       "204"
      ]
     },
     "execution_count": 22,
     "metadata": {},
     "output_type": "execute_result"
    }
   ],
   "source": [
    "(cancer_risk_factors['Smoking'] == 1).sum()\n"
   ]
  },
  {
   "cell_type": "code",
   "execution_count": 23,
   "id": "c60c906b-93c0-47d6-a2ce-f7f30a06d790",
   "metadata": {},
   "outputs": [
    {
     "data": {
      "text/plain": [
       "49"
      ]
     },
     "execution_count": 23,
     "metadata": {},
     "output_type": "execute_result"
    }
   ],
   "source": [
    "(train_set['BRCA_Mutation'] == 1).sum()"
   ]
  },
  {
   "cell_type": "code",
   "execution_count": 24,
   "id": "1014ec9a-14a8-4dd7-a48e-d65e103bd124",
   "metadata": {},
   "outputs": [
    {
     "data": {
      "text/plain": [
       "65"
      ]
     },
     "execution_count": 24,
     "metadata": {},
     "output_type": "execute_result"
    }
   ],
   "source": [
    "(cancer_risk_factors['BRCA_Mutation'] == 1).sum()\n"
   ]
  },
  {
   "cell_type": "code",
   "execution_count": 25,
   "id": "1562befc-b3c6-466c-9149-c63dda979819",
   "metadata": {},
   "outputs": [
    {
     "data": {
      "text/plain": [
       "count    1600.000000\n",
       "mean        5.343750\n",
       "std         3.226584\n",
       "min         0.000000\n",
       "25%         3.000000\n",
       "50%         5.000000\n",
       "75%         8.000000\n",
       "max        10.000000\n",
       "Name: Air_Pollution, dtype: float64"
      ]
     },
     "execution_count": 25,
     "metadata": {},
     "output_type": "execute_result"
    }
   ],
   "source": [
    "train_set['Air_Pollution'].describe()"
   ]
  },
  {
   "cell_type": "code",
   "execution_count": 26,
   "id": "1df62f1e-3a3a-46f8-b921-a7caa49f195f",
   "metadata": {},
   "outputs": [
    {
     "data": {
      "text/plain": [
       "count    2000.000000\n",
       "mean        5.323000\n",
       "std         3.207462\n",
       "min         0.000000\n",
       "25%         3.000000\n",
       "50%         5.000000\n",
       "75%         8.000000\n",
       "max        10.000000\n",
       "Name: Air_Pollution, dtype: float64"
      ]
     },
     "execution_count": 26,
     "metadata": {},
     "output_type": "execute_result"
    }
   ],
   "source": [
    "cancer_risk_factors['Air_Pollution'].describe()"
   ]
  },
  {
   "cell_type": "code",
   "execution_count": 27,
   "id": "12a1f633-52a1-4117-a5d3-9ec0b0145e11",
   "metadata": {},
   "outputs": [
    {
     "data": {
      "text/plain": [
       "<Axes: >"
      ]
     },
     "execution_count": 27,
     "metadata": {},
     "output_type": "execute_result"
    },
    {
     "data": {
      "image/png": "[encoded data removed]",
      "text/plain": [
       "<Figure size 400x300 with 1 Axes>"
      ]
     },
     "metadata": {},
     "output_type": "display_data"
    }
   ],
   "source": [
    "test_set['Air_Pollution'].hist(bins=50, figsize=(4, 3))"
   ]
  },
  {
   "cell_type": "code",
   "execution_count": 28,
   "id": "664b74fe-3a09-4eca-9326-f7df9bdec69b",
   "metadata": {},
   "outputs": [
    {
     "data": {
      "text/plain": [
       "<Axes: >"
      ]
     },
     "execution_count": 28,
     "metadata": {},
     "output_type": "execute_result"
    },
    {
     "data": {
      "image/png": "[encoded data removed]",
      "text/plain": [
       "<Figure size 400x300 with 1 Axes>"
      ]
     },
     "metadata": {},
     "output_type": "display_data"
    }
   ],
   "source": [
    "cancer_risk_factors['Air_Pollution'].hist(bins=50, figsize=(4, 3))"
   ]
  },
  {
   "cell_type": "markdown",
   "id": "5fca93c4-586a-4378-a65d-77b2d97d4eba",
   "metadata": {},
   "source": [
    "Try stratified method for comparison - with air pollution, this seems to be somewhat correlated"
   ]
  },
  {
   "cell_type": "code",
   "execution_count": 29,
   "id": "098213dd-69ff-4314-91b8-cf5abc9d459b",
   "metadata": {},
   "outputs": [],
   "source": [
    "from sklearn.model_selection import StratifiedShuffleSplit\n",
    "\n",
    "splitter = StratifiedShuffleSplit(n_splits=10, test_size=0.2, random_state=42)\n",
    "strat_splits = []\n",
    "for train_index, test_index in splitter.split(cancer_risk_factors, cancer_risk_factors['Air_Pollution']):\n",
    "    strat_train_set_n = cancer_risk_factors.iloc[train_index]\n",
    "    strat_test_set_n = cancer_risk_factors.iloc[test_index]\n",
    "    strat_splits.append([strat_train_set_n, strat_test_set_n])"
   ]
  },
  {
   "cell_type": "code",
   "execution_count": 30,
   "id": "62001bad-05b7-42a7-9163-c81611e0ecd6",
   "metadata": {},
   "outputs": [],
   "source": [
    "train_set_strat, test_set_strat = strat_splits[0]"
   ]
  },
  {
   "cell_type": "code",
   "execution_count": 31,
   "id": "5a9bfdce-e1be-435a-ab74-e3be90b05574",
   "metadata": {},
   "outputs": [
    {
     "data": {
      "text/plain": [
       "count    1600.000000\n",
       "mean        5.323750\n",
       "std         3.206105\n",
       "min         0.000000\n",
       "25%         3.000000\n",
       "50%         5.000000\n",
       "75%         8.000000\n",
       "max        10.000000\n",
       "Name: Air_Pollution, dtype: float64"
      ]
     },
     "execution_count": 31,
     "metadata": {},
     "output_type": "execute_result"
    }
   ],
   "source": [
    "train_set_strat['Air_Pollution'].describe()"
   ]
  },
  {
   "cell_type": "code",
   "execution_count": 32,
   "id": "0be7c234-f6d8-470b-bd54-3e2b3c6b3d3d",
   "metadata": {},
   "outputs": [
    {
     "data": {
      "text/plain": [
       "<Axes: >"
      ]
     },
     "execution_count": 32,
     "metadata": {},
     "output_type": "execute_result"
    },
    {
     "data": {
      "image/png": "[encoded data removed]",
      "text/plain": [
       "<Figure size 400x300 with 1 Axes>"
      ]
     },
     "metadata": {},
     "output_type": "display_data"
    }
   ],
   "source": [
    "test_set_strat['Air_Pollution'].hist(bins=50, figsize=(4, 3))"
   ]
  },
  {
   "cell_type": "markdown",
   "id": "f8a088ff-adeb-47df-97b3-e2f769e92ffe",
   "metadata": {},
   "source": [
    "## Explore and visualize the data more exentensivly to gain insights"
   ]
  },
  {
   "cell_type": "code",
   "execution_count": 33,
   "id": "69917b87-82b0-4fdd-8a27-5126406986b4",
   "metadata": {},
   "outputs": [],
   "source": [
    "cancer_risk_factors = train_set_strat.copy()"
   ]
  },
  {
   "cell_type": "code",
   "execution_count": 34,
   "id": "69cf8bae-d49c-4182-a9e1-5874039c6a36",
   "metadata": {},
   "outputs": [
    {
     "data": {
      "text/html": [
       "<div>\n",
       "<style scoped>\n",
       "    .dataframe tbody tr th:only-of-type {\n",
       "        vertical-align: middle;\n",
       "    }\n",
       "\n",
       "    .dataframe tbody tr th {\n",
       "        vertical-align: top;\n",
       "    }\n",
       "\n",
       "    .dataframe thead th {\n",
       "        text-align: right;\n",
       "    }\n",
       "</style>\n",
       "<table border=\"1\" class=\"dataframe\">\n",
       "  <thead>\n",
       "    <tr style=\"text-align: right;\">\n",
       "      <th></th>\n",
       "      <th>Patient_ID</th>\n",
       "      <th>Cancer_Type</th>\n",
       "      <th>Age</th>\n",
       "      <th>Gender</th>\n",
       "      <th>Smoking</th>\n",
       "      <th>Alcohol_Use</th>\n",
       "      <th>Obesity</th>\n",
       "      <th>Family_History</th>\n",
       "      <th>Diet_Red_Meat</th>\n",
       "      <th>Diet_Salted_Processed</th>\n",
       "      <th>...</th>\n",
       "      <th>Physical_Activity</th>\n",
       "      <th>Air_Pollution</th>\n",
       "      <th>Occupational_Hazards</th>\n",
       "      <th>BRCA_Mutation</th>\n",
       "      <th>H_Pylori_Infection</th>\n",
       "      <th>Calcium_Intake</th>\n",
       "      <th>Overall_Risk_Score</th>\n",
       "      <th>BMI</th>\n",
       "      <th>Physical_Activity_Level</th>\n",
       "      <th>Risk_Level</th>\n",
       "    </tr>\n",
       "  </thead>\n",
       "  <tbody>\n",
       "    <tr>\n",
       "      <th>444</th>\n",
       "      <td>BR0044</td>\n",
       "      <td>Skin</td>\n",
       "      <td>50</td>\n",
       "      <td>0</td>\n",
       "      <td>0</td>\n",
       "      <td>7</td>\n",
       "      <td>4</td>\n",
       "      <td>0</td>\n",
       "      <td>2</td>\n",
       "      <td>5</td>\n",
       "      <td>...</td>\n",
       "      <td>1</td>\n",
       "      <td>4</td>\n",
       "      <td>7</td>\n",
       "      <td>0</td>\n",
       "      <td>0</td>\n",
       "      <td>6</td>\n",
       "      <td>0.348580</td>\n",
       "      <td>20.8</td>\n",
       "      <td>4</td>\n",
       "      <td>Medium</td>\n",
       "    </tr>\n",
       "    <tr>\n",
       "      <th>646</th>\n",
       "      <td>BR0246</td>\n",
       "      <td>Colon</td>\n",
       "      <td>57</td>\n",
       "      <td>0</td>\n",
       "      <td>0</td>\n",
       "      <td>5</td>\n",
       "      <td>4</td>\n",
       "      <td>0</td>\n",
       "      <td>6</td>\n",
       "      <td>2</td>\n",
       "      <td>...</td>\n",
       "      <td>2</td>\n",
       "      <td>4</td>\n",
       "      <td>3</td>\n",
       "      <td>0</td>\n",
       "      <td>0</td>\n",
       "      <td>2</td>\n",
       "      <td>0.260191</td>\n",
       "      <td>15.2</td>\n",
       "      <td>6</td>\n",
       "      <td>Low</td>\n",
       "    </tr>\n",
       "    <tr>\n",
       "      <th>1790</th>\n",
       "      <td>ST0190</td>\n",
       "      <td>Lung</td>\n",
       "      <td>55</td>\n",
       "      <td>1</td>\n",
       "      <td>7</td>\n",
       "      <td>2</td>\n",
       "      <td>4</td>\n",
       "      <td>0</td>\n",
       "      <td>4</td>\n",
       "      <td>9</td>\n",
       "      <td>...</td>\n",
       "      <td>3</td>\n",
       "      <td>4</td>\n",
       "      <td>0</td>\n",
       "      <td>0</td>\n",
       "      <td>1</td>\n",
       "      <td>10</td>\n",
       "      <td>0.285163</td>\n",
       "      <td>18.5</td>\n",
       "      <td>10</td>\n",
       "      <td>Low</td>\n",
       "    </tr>\n",
       "    <tr>\n",
       "      <th>1043</th>\n",
       "      <td>CO0243</td>\n",
       "      <td>Colon</td>\n",
       "      <td>60</td>\n",
       "      <td>1</td>\n",
       "      <td>1</td>\n",
       "      <td>6</td>\n",
       "      <td>9</td>\n",
       "      <td>0</td>\n",
       "      <td>5</td>\n",
       "      <td>10</td>\n",
       "      <td>...</td>\n",
       "      <td>5</td>\n",
       "      <td>5</td>\n",
       "      <td>10</td>\n",
       "      <td>0</td>\n",
       "      <td>0</td>\n",
       "      <td>9</td>\n",
       "      <td>0.647086</td>\n",
       "      <td>25.8</td>\n",
       "      <td>4</td>\n",
       "      <td>Medium</td>\n",
       "    </tr>\n",
       "    <tr>\n",
       "      <th>1417</th>\n",
       "      <td>PR0217</td>\n",
       "      <td>Lung</td>\n",
       "      <td>72</td>\n",
       "      <td>1</td>\n",
       "      <td>7</td>\n",
       "      <td>2</td>\n",
       "      <td>8</td>\n",
       "      <td>0</td>\n",
       "      <td>3</td>\n",
       "      <td>2</td>\n",
       "      <td>...</td>\n",
       "      <td>3</td>\n",
       "      <td>5</td>\n",
       "      <td>8</td>\n",
       "      <td>0</td>\n",
       "      <td>0</td>\n",
       "      <td>7</td>\n",
       "      <td>0.425804</td>\n",
       "      <td>27.1</td>\n",
       "      <td>10</td>\n",
       "      <td>Medium</td>\n",
       "    </tr>\n",
       "    <tr>\n",
       "      <th>...</th>\n",
       "      <td>...</td>\n",
       "      <td>...</td>\n",
       "      <td>...</td>\n",
       "      <td>...</td>\n",
       "      <td>...</td>\n",
       "      <td>...</td>\n",
       "      <td>...</td>\n",
       "      <td>...</td>\n",
       "      <td>...</td>\n",
       "      <td>...</td>\n",
       "      <td>...</td>\n",
       "      <td>...</td>\n",
       "      <td>...</td>\n",
       "      <td>...</td>\n",
       "      <td>...</td>\n",
       "      <td>...</td>\n",
       "      <td>...</td>\n",
       "      <td>...</td>\n",
       "      <td>...</td>\n",
       "      <td>...</td>\n",
       "      <td>...</td>\n",
       "    </tr>\n",
       "    <tr>\n",
       "      <th>1659</th>\n",
       "      <td>ST0059</td>\n",
       "      <td>Breast</td>\n",
       "      <td>55</td>\n",
       "      <td>0</td>\n",
       "      <td>6</td>\n",
       "      <td>1</td>\n",
       "      <td>10</td>\n",
       "      <td>0</td>\n",
       "      <td>0</td>\n",
       "      <td>7</td>\n",
       "      <td>...</td>\n",
       "      <td>2</td>\n",
       "      <td>2</td>\n",
       "      <td>5</td>\n",
       "      <td>0</td>\n",
       "      <td>1</td>\n",
       "      <td>3</td>\n",
       "      <td>0.485057</td>\n",
       "      <td>30.6</td>\n",
       "      <td>1</td>\n",
       "      <td>Medium</td>\n",
       "    </tr>\n",
       "    <tr>\n",
       "      <th>1059</th>\n",
       "      <td>CO0259</td>\n",
       "      <td>Colon</td>\n",
       "      <td>66</td>\n",
       "      <td>0</td>\n",
       "      <td>6</td>\n",
       "      <td>4</td>\n",
       "      <td>5</td>\n",
       "      <td>1</td>\n",
       "      <td>10</td>\n",
       "      <td>10</td>\n",
       "      <td>...</td>\n",
       "      <td>4</td>\n",
       "      <td>3</td>\n",
       "      <td>5</td>\n",
       "      <td>0</td>\n",
       "      <td>0</td>\n",
       "      <td>3</td>\n",
       "      <td>0.551552</td>\n",
       "      <td>24.5</td>\n",
       "      <td>1</td>\n",
       "      <td>Medium</td>\n",
       "    </tr>\n",
       "    <tr>\n",
       "      <th>162</th>\n",
       "      <td>LU0162</td>\n",
       "      <td>Colon</td>\n",
       "      <td>71</td>\n",
       "      <td>1</td>\n",
       "      <td>9</td>\n",
       "      <td>0</td>\n",
       "      <td>5</td>\n",
       "      <td>0</td>\n",
       "      <td>7</td>\n",
       "      <td>2</td>\n",
       "      <td>...</td>\n",
       "      <td>10</td>\n",
       "      <td>7</td>\n",
       "      <td>0</td>\n",
       "      <td>0</td>\n",
       "      <td>0</td>\n",
       "      <td>2</td>\n",
       "      <td>0.365623</td>\n",
       "      <td>30.6</td>\n",
       "      <td>7</td>\n",
       "      <td>Medium</td>\n",
       "    </tr>\n",
       "    <tr>\n",
       "      <th>1627</th>\n",
       "      <td>ST0027</td>\n",
       "      <td>Colon</td>\n",
       "      <td>69</td>\n",
       "      <td>1</td>\n",
       "      <td>5</td>\n",
       "      <td>7</td>\n",
       "      <td>10</td>\n",
       "      <td>0</td>\n",
       "      <td>10</td>\n",
       "      <td>7</td>\n",
       "      <td>...</td>\n",
       "      <td>9</td>\n",
       "      <td>8</td>\n",
       "      <td>3</td>\n",
       "      <td>0</td>\n",
       "      <td>1</td>\n",
       "      <td>1</td>\n",
       "      <td>0.709422</td>\n",
       "      <td>31.1</td>\n",
       "      <td>9</td>\n",
       "      <td>High</td>\n",
       "    </tr>\n",
       "    <tr>\n",
       "      <th>1870</th>\n",
       "      <td>ST0270</td>\n",
       "      <td>Skin</td>\n",
       "      <td>59</td>\n",
       "      <td>1</td>\n",
       "      <td>6</td>\n",
       "      <td>4</td>\n",
       "      <td>4</td>\n",
       "      <td>1</td>\n",
       "      <td>10</td>\n",
       "      <td>9</td>\n",
       "      <td>...</td>\n",
       "      <td>3</td>\n",
       "      <td>4</td>\n",
       "      <td>10</td>\n",
       "      <td>0</td>\n",
       "      <td>1</td>\n",
       "      <td>9</td>\n",
       "      <td>0.574141</td>\n",
       "      <td>21.6</td>\n",
       "      <td>2</td>\n",
       "      <td>Medium</td>\n",
       "    </tr>\n",
       "  </tbody>\n",
       "</table>\n",
       "<p>1600 rows × 21 columns</p>\n",
       "</div>"
      ],
      "text/plain": [
       "     Patient_ID Cancer_Type  Age  Gender  Smoking  Alcohol_Use  Obesity  \\\n",
       "444      BR0044        Skin   50       0        0            7        4   \n",
       "646      BR0246       Colon   57       0        0            5        4   \n",
       "1790     ST0190        Lung   55       1        7            2        4   \n",
       "1043     CO0243       Colon   60       1        1            6        9   \n",
       "1417     PR0217        Lung   72       1        7            2        8   \n",
       "...         ...         ...  ...     ...      ...          ...      ...   \n",
       "1659     ST0059      Breast   55       0        6            1       10   \n",
       "1059     CO0259       Colon   66       0        6            4        5   \n",
       "162      LU0162       Colon   71       1        9            0        5   \n",
       "1627     ST0027       Colon   69       1        5            7       10   \n",
       "1870     ST0270        Skin   59       1        6            4        4   \n",
       "\n",
       "      Family_History  Diet_Red_Meat  Diet_Salted_Processed  ...  \\\n",
       "444                0              2                      5  ...   \n",
       "646                0              6                      2  ...   \n",
       "1790               0              4                      9  ...   \n",
       "1043               0              5                     10  ...   \n",
       "1417               0              3                      2  ...   \n",
       "...              ...            ...                    ...  ...   \n",
       "1659               0              0                      7  ...   \n",
       "1059               1             10                     10  ...   \n",
       "162                0              7                      2  ...   \n",
       "1627               0             10                      7  ...   \n",
       "1870               1             10                      9  ...   \n",
       "\n",
       "      Physical_Activity  Air_Pollution  Occupational_Hazards  BRCA_Mutation  \\\n",
       "444                   1              4                     7              0   \n",
       "646                   2              4                     3              0   \n",
       "1790                  3              4                     0              0   \n",
       "1043                  5              5                    10              0   \n",
       "1417                  3              5                     8              0   \n",
       "...                 ...            ...                   ...            ...   \n",
       "1659                  2              2                     5              0   \n",
       "1059                  4              3                     5              0   \n",
       "162                  10              7                     0              0   \n",
       "1627                  9              8                     3              0   \n",
       "1870                  3              4                    10              0   \n",
       "\n",
       "      H_Pylori_Infection  Calcium_Intake  Overall_Risk_Score   BMI  \\\n",
       "444                    0               6            0.348580  20.8   \n",
       "646                    0               2            0.260191  15.2   \n",
       "1790                   1              10            0.285163  18.5   \n",
       "1043                   0               9            0.647086  25.8   \n",
       "1417                   0               7            0.425804  27.1   \n",
       "...                  ...             ...                 ...   ...   \n",
       "1659                   1               3            0.485057  30.6   \n",
       "1059                   0               3            0.551552  24.5   \n",
       "162                    0               2            0.365623  30.6   \n",
       "1627                   1               1            0.709422  31.1   \n",
       "1870                   1               9            0.574141  21.6   \n",
       "\n",
       "      Physical_Activity_Level  Risk_Level  \n",
       "444                         4      Medium  \n",
       "646                         6         Low  \n",
       "1790                       10         Low  \n",
       "1043                        4      Medium  \n",
       "1417                       10      Medium  \n",
       "...                       ...         ...  \n",
       "1659                        1      Medium  \n",
       "1059                        1      Medium  \n",
       "162                         7      Medium  \n",
       "1627                        9        High  \n",
       "1870                        2      Medium  \n",
       "\n",
       "[1600 rows x 21 columns]"
      ]
     },
     "execution_count": 34,
     "metadata": {},
     "output_type": "execute_result"
    }
   ],
   "source": [
    "cancer_risk_factors"
   ]
  },
  {
   "cell_type": "markdown",
   "id": "82576c56-ee03-45db-854d-39515040e098",
   "metadata": {},
   "source": [
    "### looking for correlations"
   ]
  },
  {
   "cell_type": "code",
   "execution_count": 35,
   "id": "4e2a3a9b-84a5-40ab-956b-2839e57622de",
   "metadata": {},
   "outputs": [],
   "source": [
    "corr_matrix = cancer_risk_factors.corr(numeric_only=True)"
   ]
  },
  {
   "cell_type": "code",
   "execution_count": 36,
   "id": "51f01d9e-43ea-4394-a0b8-f820351fa55c",
   "metadata": {},
   "outputs": [
    {
     "data": {
      "text/html": [
       "<div>\n",
       "<style scoped>\n",
       "    .dataframe tbody tr th:only-of-type {\n",
       "        vertical-align: middle;\n",
       "    }\n",
       "\n",
       "    .dataframe tbody tr th {\n",
       "        vertical-align: top;\n",
       "    }\n",
       "\n",
       "    .dataframe thead th {\n",
       "        text-align: right;\n",
       "    }\n",
       "</style>\n",
       "<table border=\"1\" class=\"dataframe\">\n",
       "  <thead>\n",
       "    <tr style=\"text-align: right;\">\n",
       "      <th></th>\n",
       "      <th>Age</th>\n",
       "      <th>Gender</th>\n",
       "      <th>Smoking</th>\n",
       "      <th>Alcohol_Use</th>\n",
       "      <th>Obesity</th>\n",
       "      <th>Family_History</th>\n",
       "      <th>Diet_Red_Meat</th>\n",
       "      <th>Diet_Salted_Processed</th>\n",
       "      <th>Fruit_Veg_Intake</th>\n",
       "      <th>Physical_Activity</th>\n",
       "      <th>Air_Pollution</th>\n",
       "      <th>Occupational_Hazards</th>\n",
       "      <th>BRCA_Mutation</th>\n",
       "      <th>H_Pylori_Infection</th>\n",
       "      <th>Calcium_Intake</th>\n",
       "      <th>Overall_Risk_Score</th>\n",
       "      <th>BMI</th>\n",
       "      <th>Physical_Activity_Level</th>\n",
       "    </tr>\n",
       "  </thead>\n",
       "  <tbody>\n",
       "    <tr>\n",
       "      <th>Age</th>\n",
       "      <td>1.000000</td>\n",
       "      <td>0.261532</td>\n",
       "      <td>0.039111</td>\n",
       "      <td>-0.037646</td>\n",
       "      <td>-0.011268</td>\n",
       "      <td>0.047580</td>\n",
       "      <td>-0.021794</td>\n",
       "      <td>-0.053078</td>\n",
       "      <td>0.001623</td>\n",
       "      <td>0.065389</td>\n",
       "      <td>0.004875</td>\n",
       "      <td>0.044980</td>\n",
       "      <td>-0.025481</td>\n",
       "      <td>0.022463</td>\n",
       "      <td>0.056922</td>\n",
       "      <td>-0.017242</td>\n",
       "      <td>-0.009343</td>\n",
       "      <td>-0.046683</td>\n",
       "    </tr>\n",
       "    <tr>\n",
       "      <th>Gender</th>\n",
       "      <td>0.261532</td>\n",
       "      <td>1.000000</td>\n",
       "      <td>0.131595</td>\n",
       "      <td>-0.059832</td>\n",
       "      <td>-0.185989</td>\n",
       "      <td>0.025279</td>\n",
       "      <td>0.047978</td>\n",
       "      <td>0.022824</td>\n",
       "      <td>0.015527</td>\n",
       "      <td>0.050569</td>\n",
       "      <td>0.059337</td>\n",
       "      <td>0.068397</td>\n",
       "      <td>-0.087357</td>\n",
       "      <td>-0.010482</td>\n",
       "      <td>0.306879</td>\n",
       "      <td>0.028158</td>\n",
       "      <td>0.018057</td>\n",
       "      <td>-0.046340</td>\n",
       "    </tr>\n",
       "    <tr>\n",
       "      <th>Smoking</th>\n",
       "      <td>0.039111</td>\n",
       "      <td>0.131595</td>\n",
       "      <td>1.000000</td>\n",
       "      <td>0.119203</td>\n",
       "      <td>-0.094586</td>\n",
       "      <td>-0.019468</td>\n",
       "      <td>-0.140282</td>\n",
       "      <td>-0.044709</td>\n",
       "      <td>0.038724</td>\n",
       "      <td>0.101957</td>\n",
       "      <td>0.468018</td>\n",
       "      <td>-0.014494</td>\n",
       "      <td>-0.046065</td>\n",
       "      <td>-0.049610</td>\n",
       "      <td>0.095984</td>\n",
       "      <td>0.435382</td>\n",
       "      <td>-0.009550</td>\n",
       "      <td>0.032359</td>\n",
       "    </tr>\n",
       "    <tr>\n",
       "      <th>Alcohol_Use</th>\n",
       "      <td>-0.037646</td>\n",
       "      <td>-0.059832</td>\n",
       "      <td>0.119203</td>\n",
       "      <td>1.000000</td>\n",
       "      <td>0.000005</td>\n",
       "      <td>-0.009383</td>\n",
       "      <td>-0.023592</td>\n",
       "      <td>-0.018815</td>\n",
       "      <td>0.051976</td>\n",
       "      <td>0.027991</td>\n",
       "      <td>0.075645</td>\n",
       "      <td>-0.009821</td>\n",
       "      <td>-0.056017</td>\n",
       "      <td>-0.064060</td>\n",
       "      <td>-0.049962</td>\n",
       "      <td>0.392609</td>\n",
       "      <td>-0.026751</td>\n",
       "      <td>0.031946</td>\n",
       "    </tr>\n",
       "    <tr>\n",
       "      <th>Obesity</th>\n",
       "      <td>-0.011268</td>\n",
       "      <td>-0.185989</td>\n",
       "      <td>-0.094586</td>\n",
       "      <td>0.000005</td>\n",
       "      <td>1.000000</td>\n",
       "      <td>0.014936</td>\n",
       "      <td>-0.043085</td>\n",
       "      <td>-0.018268</td>\n",
       "      <td>-0.002164</td>\n",
       "      <td>0.002289</td>\n",
       "      <td>-0.063800</td>\n",
       "      <td>-0.002530</td>\n",
       "      <td>0.049428</td>\n",
       "      <td>0.042303</td>\n",
       "      <td>-0.111642</td>\n",
       "      <td>0.232921</td>\n",
       "      <td>0.023334</td>\n",
       "      <td>0.016222</td>\n",
       "    </tr>\n",
       "    <tr>\n",
       "      <th>Family_History</th>\n",
       "      <td>0.047580</td>\n",
       "      <td>0.025279</td>\n",
       "      <td>-0.019468</td>\n",
       "      <td>-0.009383</td>\n",
       "      <td>0.014936</td>\n",
       "      <td>1.000000</td>\n",
       "      <td>0.014082</td>\n",
       "      <td>-0.021999</td>\n",
       "      <td>0.000157</td>\n",
       "      <td>0.000090</td>\n",
       "      <td>-0.020183</td>\n",
       "      <td>0.037806</td>\n",
       "      <td>0.014842</td>\n",
       "      <td>-0.024447</td>\n",
       "      <td>0.049063</td>\n",
       "      <td>0.040292</td>\n",
       "      <td>0.020397</td>\n",
       "      <td>0.077760</td>\n",
       "    </tr>\n",
       "    <tr>\n",
       "      <th>Diet_Red_Meat</th>\n",
       "      <td>-0.021794</td>\n",
       "      <td>0.047978</td>\n",
       "      <td>-0.140282</td>\n",
       "      <td>-0.023592</td>\n",
       "      <td>-0.043085</td>\n",
       "      <td>0.014082</td>\n",
       "      <td>1.000000</td>\n",
       "      <td>0.176626</td>\n",
       "      <td>-0.187754</td>\n",
       "      <td>-0.004522</td>\n",
       "      <td>-0.070402</td>\n",
       "      <td>-0.006954</td>\n",
       "      <td>-0.023282</td>\n",
       "      <td>0.029622</td>\n",
       "      <td>0.087774</td>\n",
       "      <td>0.278684</td>\n",
       "      <td>0.039664</td>\n",
       "      <td>0.018642</td>\n",
       "    </tr>\n",
       "    <tr>\n",
       "      <th>Diet_Salted_Processed</th>\n",
       "      <td>-0.053078</td>\n",
       "      <td>0.022824</td>\n",
       "      <td>-0.044709</td>\n",
       "      <td>-0.018815</td>\n",
       "      <td>-0.018268</td>\n",
       "      <td>-0.021999</td>\n",
       "      <td>0.176626</td>\n",
       "      <td>1.000000</td>\n",
       "      <td>-0.222027</td>\n",
       "      <td>-0.013110</td>\n",
       "      <td>0.048024</td>\n",
       "      <td>0.063313</td>\n",
       "      <td>0.038395</td>\n",
       "      <td>0.125449</td>\n",
       "      <td>0.061613</td>\n",
       "      <td>0.380086</td>\n",
       "      <td>-0.014938</td>\n",
       "      <td>0.007715</td>\n",
       "    </tr>\n",
       "    <tr>\n",
       "      <th>Fruit_Veg_Intake</th>\n",
       "      <td>0.001623</td>\n",
       "      <td>0.015527</td>\n",
       "      <td>0.038724</td>\n",
       "      <td>0.051976</td>\n",
       "      <td>-0.002164</td>\n",
       "      <td>0.000157</td>\n",
       "      <td>-0.187754</td>\n",
       "      <td>-0.222027</td>\n",
       "      <td>1.000000</td>\n",
       "      <td>0.000652</td>\n",
       "      <td>-0.049422</td>\n",
       "      <td>-0.056929</td>\n",
       "      <td>-0.050997</td>\n",
       "      <td>-0.156422</td>\n",
       "      <td>-0.025375</td>\n",
       "      <td>-0.151826</td>\n",
       "      <td>-0.003334</td>\n",
       "      <td>-0.007981</td>\n",
       "    </tr>\n",
       "    <tr>\n",
       "      <th>Physical_Activity</th>\n",
       "      <td>0.065389</td>\n",
       "      <td>0.050569</td>\n",
       "      <td>0.101957</td>\n",
       "      <td>0.027991</td>\n",
       "      <td>0.002289</td>\n",
       "      <td>0.000090</td>\n",
       "      <td>-0.004522</td>\n",
       "      <td>-0.013110</td>\n",
       "      <td>0.000652</td>\n",
       "      <td>1.000000</td>\n",
       "      <td>0.087697</td>\n",
       "      <td>0.032854</td>\n",
       "      <td>-0.001109</td>\n",
       "      <td>-0.020689</td>\n",
       "      <td>0.001138</td>\n",
       "      <td>0.068141</td>\n",
       "      <td>0.003495</td>\n",
       "      <td>0.050067</td>\n",
       "    </tr>\n",
       "    <tr>\n",
       "      <th>Air_Pollution</th>\n",
       "      <td>0.004875</td>\n",
       "      <td>0.059337</td>\n",
       "      <td>0.468018</td>\n",
       "      <td>0.075645</td>\n",
       "      <td>-0.063800</td>\n",
       "      <td>-0.020183</td>\n",
       "      <td>-0.070402</td>\n",
       "      <td>0.048024</td>\n",
       "      <td>-0.049422</td>\n",
       "      <td>0.087697</td>\n",
       "      <td>1.000000</td>\n",
       "      <td>0.098333</td>\n",
       "      <td>-0.044311</td>\n",
       "      <td>0.041411</td>\n",
       "      <td>0.063804</td>\n",
       "      <td>0.509763</td>\n",
       "      <td>0.036571</td>\n",
       "      <td>0.007669</td>\n",
       "    </tr>\n",
       "    <tr>\n",
       "      <th>Occupational_Hazards</th>\n",
       "      <td>0.044980</td>\n",
       "      <td>0.068397</td>\n",
       "      <td>-0.014494</td>\n",
       "      <td>-0.009821</td>\n",
       "      <td>-0.002530</td>\n",
       "      <td>0.037806</td>\n",
       "      <td>-0.006954</td>\n",
       "      <td>0.063313</td>\n",
       "      <td>-0.056929</td>\n",
       "      <td>0.032854</td>\n",
       "      <td>0.098333</td>\n",
       "      <td>1.000000</td>\n",
       "      <td>-0.002001</td>\n",
       "      <td>0.039285</td>\n",
       "      <td>0.088503</td>\n",
       "      <td>0.356244</td>\n",
       "      <td>-0.011510</td>\n",
       "      <td>0.040042</td>\n",
       "    </tr>\n",
       "    <tr>\n",
       "      <th>BRCA_Mutation</th>\n",
       "      <td>-0.025481</td>\n",
       "      <td>-0.087357</td>\n",
       "      <td>-0.046065</td>\n",
       "      <td>-0.056017</td>\n",
       "      <td>0.049428</td>\n",
       "      <td>0.014842</td>\n",
       "      <td>-0.023282</td>\n",
       "      <td>0.038395</td>\n",
       "      <td>-0.050997</td>\n",
       "      <td>-0.001109</td>\n",
       "      <td>-0.044311</td>\n",
       "      <td>-0.002001</td>\n",
       "      <td>1.000000</td>\n",
       "      <td>0.001606</td>\n",
       "      <td>-0.067100</td>\n",
       "      <td>-0.003202</td>\n",
       "      <td>-0.015638</td>\n",
       "      <td>0.025165</td>\n",
       "    </tr>\n",
       "    <tr>\n",
       "      <th>H_Pylori_Infection</th>\n",
       "      <td>0.022463</td>\n",
       "      <td>-0.010482</td>\n",
       "      <td>-0.049610</td>\n",
       "      <td>-0.064060</td>\n",
       "      <td>0.042303</td>\n",
       "      <td>-0.024447</td>\n",
       "      <td>0.029622</td>\n",
       "      <td>0.125449</td>\n",
       "      <td>-0.156422</td>\n",
       "      <td>-0.020689</td>\n",
       "      <td>0.041411</td>\n",
       "      <td>0.039285</td>\n",
       "      <td>0.001606</td>\n",
       "      <td>1.000000</td>\n",
       "      <td>-0.053559</td>\n",
       "      <td>0.046006</td>\n",
       "      <td>0.016345</td>\n",
       "      <td>-0.000238</td>\n",
       "    </tr>\n",
       "    <tr>\n",
       "      <th>Calcium_Intake</th>\n",
       "      <td>0.056922</td>\n",
       "      <td>0.306879</td>\n",
       "      <td>0.095984</td>\n",
       "      <td>-0.049962</td>\n",
       "      <td>-0.111642</td>\n",
       "      <td>0.049063</td>\n",
       "      <td>0.087774</td>\n",
       "      <td>0.061613</td>\n",
       "      <td>-0.025375</td>\n",
       "      <td>0.001138</td>\n",
       "      <td>0.063804</td>\n",
       "      <td>0.088503</td>\n",
       "      <td>-0.067100</td>\n",
       "      <td>-0.053559</td>\n",
       "      <td>1.000000</td>\n",
       "      <td>0.074137</td>\n",
       "      <td>0.013858</td>\n",
       "      <td>-0.004833</td>\n",
       "    </tr>\n",
       "    <tr>\n",
       "      <th>Overall_Risk_Score</th>\n",
       "      <td>-0.017242</td>\n",
       "      <td>0.028158</td>\n",
       "      <td>0.435382</td>\n",
       "      <td>0.392609</td>\n",
       "      <td>0.232921</td>\n",
       "      <td>0.040292</td>\n",
       "      <td>0.278684</td>\n",
       "      <td>0.380086</td>\n",
       "      <td>-0.151826</td>\n",
       "      <td>0.068141</td>\n",
       "      <td>0.509763</td>\n",
       "      <td>0.356244</td>\n",
       "      <td>-0.003202</td>\n",
       "      <td>0.046006</td>\n",
       "      <td>0.074137</td>\n",
       "      <td>1.000000</td>\n",
       "      <td>0.028846</td>\n",
       "      <td>0.050586</td>\n",
       "    </tr>\n",
       "    <tr>\n",
       "      <th>BMI</th>\n",
       "      <td>-0.009343</td>\n",
       "      <td>0.018057</td>\n",
       "      <td>-0.009550</td>\n",
       "      <td>-0.026751</td>\n",
       "      <td>0.023334</td>\n",
       "      <td>0.020397</td>\n",
       "      <td>0.039664</td>\n",
       "      <td>-0.014938</td>\n",
       "      <td>-0.003334</td>\n",
       "      <td>0.003495</td>\n",
       "      <td>0.036571</td>\n",
       "      <td>-0.011510</td>\n",
       "      <td>-0.015638</td>\n",
       "      <td>0.016345</td>\n",
       "      <td>0.013858</td>\n",
       "      <td>0.028846</td>\n",
       "      <td>1.000000</td>\n",
       "      <td>-0.004842</td>\n",
       "    </tr>\n",
       "    <tr>\n",
       "      <th>Physical_Activity_Level</th>\n",
       "      <td>-0.046683</td>\n",
       "      <td>-0.046340</td>\n",
       "      <td>0.032359</td>\n",
       "      <td>0.031946</td>\n",
       "      <td>0.016222</td>\n",
       "      <td>0.077760</td>\n",
       "      <td>0.018642</td>\n",
       "      <td>0.007715</td>\n",
       "      <td>-0.007981</td>\n",
       "      <td>0.050067</td>\n",
       "      <td>0.007669</td>\n",
       "      <td>0.040042</td>\n",
       "      <td>0.025165</td>\n",
       "      <td>-0.000238</td>\n",
       "      <td>-0.004833</td>\n",
       "      <td>0.050586</td>\n",
       "      <td>-0.004842</td>\n",
       "      <td>1.000000</td>\n",
       "    </tr>\n",
       "  </tbody>\n",
       "</table>\n",
       "</div>"
      ],
      "text/plain": [
       "                              Age    Gender   Smoking  Alcohol_Use   Obesity  \\\n",
       "Age                      1.000000  0.261532  0.039111    -0.037646 -0.011268   \n",
       "Gender                   0.261532  1.000000  0.131595    -0.059832 -0.185989   \n",
       "Smoking                  0.039111  0.131595  1.000000     0.119203 -0.094586   \n",
       "Alcohol_Use             -0.037646 -0.059832  0.119203     1.000000  0.000005   \n",
       "Obesity                 -0.011268 -0.185989 -0.094586     0.000005  1.000000   \n",
       "Family_History           0.047580  0.025279 -0.019468    -0.009383  0.014936   \n",
       "Diet_Red_Meat           -0.021794  0.047978 -0.140282    -0.023592 -0.043085   \n",
       "Diet_Salted_Processed   -0.053078  0.022824 -0.044709    -0.018815 -0.018268   \n",
       "Fruit_Veg_Intake         0.001623  0.015527  0.038724     0.051976 -0.002164   \n",
       "Physical_Activity        0.065389  0.050569  0.101957     0.027991  0.002289   \n",
       "Air_Pollution            0.004875  0.059337  0.468018     0.075645 -0.063800   \n",
       "Occupational_Hazards     0.044980  0.068397 -0.014494    -0.009821 -0.002530   \n",
       "BRCA_Mutation           -0.025481 -0.087357 -0.046065    -0.056017  0.049428   \n",
       "H_Pylori_Infection       0.022463 -0.010482 -0.049610    -0.064060  0.042303   \n",
       "Calcium_Intake           0.056922  0.306879  0.095984    -0.049962 -0.111642   \n",
       "Overall_Risk_Score      -0.017242  0.028158  0.435382     0.392609  0.232921   \n",
       "BMI                     -0.009343  0.018057 -0.009550    -0.026751  0.023334   \n",
       "Physical_Activity_Level -0.046683 -0.046340  0.032359     0.031946  0.016222   \n",
       "\n",
       "                         Family_History  Diet_Red_Meat  Diet_Salted_Processed  \\\n",
       "Age                            0.047580      -0.021794              -0.053078   \n",
       "Gender                         0.025279       0.047978               0.022824   \n",
       "Smoking                       -0.019468      -0.140282              -0.044709   \n",
       "Alcohol_Use                   -0.009383      -0.023592              -0.018815   \n",
       "Obesity                        0.014936      -0.043085              -0.018268   \n",
       "Family_History                 1.000000       0.014082              -0.021999   \n",
       "Diet_Red_Meat                  0.014082       1.000000               0.176626   \n",
       "Diet_Salted_Processed         -0.021999       0.176626               1.000000   \n",
       "Fruit_Veg_Intake               0.000157      -0.187754              -0.222027   \n",
       "Physical_Activity              0.000090      -0.004522              -0.013110   \n",
       "Air_Pollution                 -0.020183      -0.070402               0.048024   \n",
       "Occupational_Hazards           0.037806      -0.006954               0.063313   \n",
       "BRCA_Mutation                  0.014842      -0.023282               0.038395   \n",
       "H_Pylori_Infection            -0.024447       0.029622               0.125449   \n",
       "Calcium_Intake                 0.049063       0.087774               0.061613   \n",
       "Overall_Risk_Score             0.040292       0.278684               0.380086   \n",
       "BMI                            0.020397       0.039664              -0.014938   \n",
       "Physical_Activity_Level        0.077760       0.018642               0.007715   \n",
       "\n",
       "                         Fruit_Veg_Intake  Physical_Activity  Air_Pollution  \\\n",
       "Age                              0.001623           0.065389       0.004875   \n",
       "Gender                           0.015527           0.050569       0.059337   \n",
       "Smoking                          0.038724           0.101957       0.468018   \n",
       "Alcohol_Use                      0.051976           0.027991       0.075645   \n",
       "Obesity                         -0.002164           0.002289      -0.063800   \n",
       "Family_History                   0.000157           0.000090      -0.020183   \n",
       "Diet_Red_Meat                   -0.187754          -0.004522      -0.070402   \n",
       "Diet_Salted_Processed           -0.222027          -0.013110       0.048024   \n",
       "Fruit_Veg_Intake                 1.000000           0.000652      -0.049422   \n",
       "Physical_Activity                0.000652           1.000000       0.087697   \n",
       "Air_Pollution                   -0.049422           0.087697       1.000000   \n",
       "Occupational_Hazards            -0.056929           0.032854       0.098333   \n",
       "BRCA_Mutation                   -0.050997          -0.001109      -0.044311   \n",
       "H_Pylori_Infection              -0.156422          -0.020689       0.041411   \n",
       "Calcium_Intake                  -0.025375           0.001138       0.063804   \n",
       "Overall_Risk_Score              -0.151826           0.068141       0.509763   \n",
       "BMI                             -0.003334           0.003495       0.036571   \n",
       "Physical_Activity_Level         -0.007981           0.050067       0.007669   \n",
       "\n",
       "                         Occupational_Hazards  BRCA_Mutation  \\\n",
       "Age                                  0.044980      -0.025481   \n",
       "Gender                               0.068397      -0.087357   \n",
       "Smoking                             -0.014494      -0.046065   \n",
       "Alcohol_Use                         -0.009821      -0.056017   \n",
       "Obesity                             -0.002530       0.049428   \n",
       "Family_History                       0.037806       0.014842   \n",
       "Diet_Red_Meat                       -0.006954      -0.023282   \n",
       "Diet_Salted_Processed                0.063313       0.038395   \n",
       "Fruit_Veg_Intake                    -0.056929      -0.050997   \n",
       "Physical_Activity                    0.032854      -0.001109   \n",
       "Air_Pollution                        0.098333      -0.044311   \n",
       "Occupational_Hazards                 1.000000      -0.002001   \n",
       "BRCA_Mutation                       -0.002001       1.000000   \n",
       "H_Pylori_Infection                   0.039285       0.001606   \n",
       "Calcium_Intake                       0.088503      -0.067100   \n",
       "Overall_Risk_Score                   0.356244      -0.003202   \n",
       "BMI                                 -0.011510      -0.015638   \n",
       "Physical_Activity_Level              0.040042       0.025165   \n",
       "\n",
       "                         H_Pylori_Infection  Calcium_Intake  \\\n",
       "Age                                0.022463        0.056922   \n",
       "Gender                            -0.010482        0.306879   \n",
       "Smoking                           -0.049610        0.095984   \n",
       "Alcohol_Use                       -0.064060       -0.049962   \n",
       "Obesity                            0.042303       -0.111642   \n",
       "Family_History                    -0.024447        0.049063   \n",
       "Diet_Red_Meat                      0.029622        0.087774   \n",
       "Diet_Salted_Processed              0.125449        0.061613   \n",
       "Fruit_Veg_Intake                  -0.156422       -0.025375   \n",
       "Physical_Activity                 -0.020689        0.001138   \n",
       "Air_Pollution                      0.041411        0.063804   \n",
       "Occupational_Hazards               0.039285        0.088503   \n",
       "BRCA_Mutation                      0.001606       -0.067100   \n",
       "H_Pylori_Infection                 1.000000       -0.053559   \n",
       "Calcium_Intake                    -0.053559        1.000000   \n",
       "Overall_Risk_Score                 0.046006        0.074137   \n",
       "BMI                                0.016345        0.013858   \n",
       "Physical_Activity_Level           -0.000238       -0.004833   \n",
       "\n",
       "                         Overall_Risk_Score       BMI  Physical_Activity_Level  \n",
       "Age                               -0.017242 -0.009343                -0.046683  \n",
       "Gender                             0.028158  0.018057                -0.046340  \n",
       "Smoking                            0.435382 -0.009550                 0.032359  \n",
       "Alcohol_Use                        0.392609 -0.026751                 0.031946  \n",
       "Obesity                            0.232921  0.023334                 0.016222  \n",
       "Family_History                     0.040292  0.020397                 0.077760  \n",
       "Diet_Red_Meat                      0.278684  0.039664                 0.018642  \n",
       "Diet_Salted_Processed              0.380086 -0.014938                 0.007715  \n",
       "Fruit_Veg_Intake                  -0.151826 -0.003334                -0.007981  \n",
       "Physical_Activity                  0.068141  0.003495                 0.050067  \n",
       "Air_Pollution                      0.509763  0.036571                 0.007669  \n",
       "Occupational_Hazards               0.356244 -0.011510                 0.040042  \n",
       "BRCA_Mutation                     -0.003202 -0.015638                 0.025165  \n",
       "H_Pylori_Infection                 0.046006  0.016345                -0.000238  \n",
       "Calcium_Intake                     0.074137  0.013858                -0.004833  \n",
       "Overall_Risk_Score                 1.000000  0.028846                 0.050586  \n",
       "BMI                                0.028846  1.000000                -0.004842  \n",
       "Physical_Activity_Level            0.050586 -0.004842                 1.000000  "
      ]
     },
     "execution_count": 36,
     "metadata": {},
     "output_type": "execute_result"
    }
   ],
   "source": [
    "corr_matrix"
   ]
  },
  {
   "cell_type": "code",
   "execution_count": 37,
   "id": "fdb3fb10-7118-414c-98fb-83f8f66e3a45",
   "metadata": {},
   "outputs": [
    {
     "data": {
      "text/plain": [
       "Overall_Risk_Score         1.000000\n",
       "Air_Pollution              0.509763\n",
       "Smoking                    0.435382\n",
       "Alcohol_Use                0.392609\n",
       "Diet_Salted_Processed      0.380086\n",
       "Occupational_Hazards       0.356244\n",
       "Diet_Red_Meat              0.278684\n",
       "Obesity                    0.232921\n",
       "Calcium_Intake             0.074137\n",
       "Physical_Activity          0.068141\n",
       "Physical_Activity_Level    0.050586\n",
       "H_Pylori_Infection         0.046006\n",
       "Family_History             0.040292\n",
       "BMI                        0.028846\n",
       "Gender                     0.028158\n",
       "BRCA_Mutation             -0.003202\n",
       "Age                       -0.017242\n",
       "Fruit_Veg_Intake          -0.151826\n",
       "Name: Overall_Risk_Score, dtype: float64"
      ]
     },
     "execution_count": 37,
     "metadata": {},
     "output_type": "execute_result"
    }
   ],
   "source": [
    "corr_matrix['Overall_Risk_Score'].sort_values(ascending=False)"
   ]
  },
  {
   "cell_type": "code",
   "execution_count": 38,
   "id": "91c75fbf-d7d7-41d4-84a1-e278efdaab0f",
   "metadata": {},
   "outputs": [
    {
     "data": {
      "image/png": "[encoded data removed]",
      "text/plain": [
       "<Figure size 1200x800 with 16 Axes>"
      ]
     },
     "metadata": {},
     "output_type": "display_data"
    }
   ],
   "source": [
    "from pandas.plotting import scatter_matrix\n",
    "\n",
    "attributes = ['Overall_Risk_Score', 'Air_Pollution', 'Smoking', 'Alcohol_Use']\n",
    "           #   'Occupational_Hazards', 'Diet_Salted_Processed', 'Diet_Red_Meat', 'Obesity']\n",
    "scatter_matrix(cancer_risk_factors[attributes], figsize= (12, 8))\n",
    "save_figs('scatter_matrix_plots_corr')\n"
   ]
  },
  {
   "cell_type": "code",
   "execution_count": null,
   "id": "a4596a4b-5f9b-43a5-9e4f-d92d20390075",
   "metadata": {},
   "outputs": [],
   "source": []
  },
  {
   "cell_type": "code",
   "execution_count": 39,
   "id": "0226a452-accf-45c0-95cc-fabae810a0e1",
   "metadata": {},
   "outputs": [],
   "source": [
    "# attributes are not well suited to be displayed as scatter plots"
   ]
  },
  {
   "cell_type": "markdown",
   "id": "deec0d2c-9036-4d1a-b0e6-35c7453210ee",
   "metadata": {},
   "source": [
    "## Experimenting with Attribute Combinations"
   ]
  },
  {
   "cell_type": "markdown",
   "id": "c4ff894f-22dd-4a5a-bc51-5af1ccec9df7",
   "metadata": {},
   "source": [
    "The following score is made up and more or less subjective based on impressions and experiences from my studies"
   ]
  },
  {
   "cell_type": "code",
   "execution_count": 40,
   "id": "947d3016-af78-4901-9fd9-d51aaecb50d3",
   "metadata": {},
   "outputs": [],
   "source": [
    "# goes from low (min  = 0, balanced)  to high (max = 1, less balanced)\n",
    "cancer_risk_factors['balanced_lifesyle_score'] = (( cancer_risk_factors['Smoking'] + cancer_risk_factors['Alcohol_Use'] \n",
    "                                                    + cancer_risk_factors['Diet_Salted_Processed'] + cancer_risk_factors['Obesity'] + cancer_risk_factors['Diet_Red_Meat']))\n",
    "                                                    #   cancer_risk_factors['Physical_Activity'] + cancer_risk_factors['Physical_Activity_Level'] + cancer_risk_factors['Fruit_Veg_Intake']))\n",
    "# att =  ['Smoking', 'Alcohol_Use', 'Diet_Salted_Processed', 'Obesity','Diet_Red_Meat']\n",
    "att =  ['Physical_Activity', 'Physical_Activity_Level', 'Fruit_Veg_Intake']\n",
    "for a in att:\n",
    "    cancer_risk_factors['balanced_lifesyle_score'] += (10 - cancer_risk_factors[a])\n",
    "\n",
    "cancer_risk_factors['balanced_lifesyle_score'] = cancer_risk_factors['balanced_lifesyle_score']  / 80"
   ]
  },
  {
   "cell_type": "code",
   "execution_count": 41,
   "id": "a4265704-b97e-4fdd-9362-7ec82053a9f6",
   "metadata": {},
   "outputs": [
    {
     "data": {
      "text/plain": [
       "count    1600.000000\n",
       "mean        0.527250\n",
       "std         0.111219\n",
       "min         0.187500\n",
       "25%         0.450000\n",
       "50%         0.525000\n",
       "75%         0.603125\n",
       "max         0.862500\n",
       "Name: balanced_lifesyle_score, dtype: float64"
      ]
     },
     "execution_count": 41,
     "metadata": {},
     "output_type": "execute_result"
    }
   ],
   "source": [
    "cancer_risk_factors['balanced_lifesyle_score'].describe()"
   ]
  },
  {
   "cell_type": "code",
   "execution_count": 42,
   "id": "a99ad558-5a26-4c0b-8cf0-f2e9708d5ef4",
   "metadata": {},
   "outputs": [],
   "source": [
    "corr_matrix = cancer_risk_factors.corr(numeric_only=True)"
   ]
  },
  {
   "cell_type": "code",
   "execution_count": 43,
   "id": "f757c6e3-be91-4d89-922a-af51be95f154",
   "metadata": {},
   "outputs": [
    {
     "data": {
      "text/html": [
       "<div>\n",
       "<style scoped>\n",
       "    .dataframe tbody tr th:only-of-type {\n",
       "        vertical-align: middle;\n",
       "    }\n",
       "\n",
       "    .dataframe tbody tr th {\n",
       "        vertical-align: top;\n",
       "    }\n",
       "\n",
       "    .dataframe thead th {\n",
       "        text-align: right;\n",
       "    }\n",
       "</style>\n",
       "<table border=\"1\" class=\"dataframe\">\n",
       "  <thead>\n",
       "    <tr style=\"text-align: right;\">\n",
       "      <th></th>\n",
       "      <th>Age</th>\n",
       "      <th>Gender</th>\n",
       "      <th>Smoking</th>\n",
       "      <th>Alcohol_Use</th>\n",
       "      <th>Obesity</th>\n",
       "      <th>Family_History</th>\n",
       "      <th>Diet_Red_Meat</th>\n",
       "      <th>Diet_Salted_Processed</th>\n",
       "      <th>Fruit_Veg_Intake</th>\n",
       "      <th>Physical_Activity</th>\n",
       "      <th>Air_Pollution</th>\n",
       "      <th>Occupational_Hazards</th>\n",
       "      <th>BRCA_Mutation</th>\n",
       "      <th>H_Pylori_Infection</th>\n",
       "      <th>Calcium_Intake</th>\n",
       "      <th>Overall_Risk_Score</th>\n",
       "      <th>BMI</th>\n",
       "      <th>Physical_Activity_Level</th>\n",
       "      <th>balanced_lifesyle_score</th>\n",
       "    </tr>\n",
       "  </thead>\n",
       "  <tbody>\n",
       "    <tr>\n",
       "      <th>Age</th>\n",
       "      <td>1.000000</td>\n",
       "      <td>0.261532</td>\n",
       "      <td>0.039111</td>\n",
       "      <td>-0.037646</td>\n",
       "      <td>-0.011268</td>\n",
       "      <td>0.047580</td>\n",
       "      <td>-0.021794</td>\n",
       "      <td>-0.053078</td>\n",
       "      <td>0.001623</td>\n",
       "      <td>0.065389</td>\n",
       "      <td>0.004875</td>\n",
       "      <td>0.044980</td>\n",
       "      <td>-0.025481</td>\n",
       "      <td>0.022463</td>\n",
       "      <td>0.056922</td>\n",
       "      <td>-0.017242</td>\n",
       "      <td>-0.009343</td>\n",
       "      <td>-0.046683</td>\n",
       "      <td>-0.034877</td>\n",
       "    </tr>\n",
       "    <tr>\n",
       "      <th>Gender</th>\n",
       "      <td>0.261532</td>\n",
       "      <td>1.000000</td>\n",
       "      <td>0.131595</td>\n",
       "      <td>-0.059832</td>\n",
       "      <td>-0.185989</td>\n",
       "      <td>0.025279</td>\n",
       "      <td>0.047978</td>\n",
       "      <td>0.022824</td>\n",
       "      <td>0.015527</td>\n",
       "      <td>0.050569</td>\n",
       "      <td>0.059337</td>\n",
       "      <td>0.068397</td>\n",
       "      <td>-0.087357</td>\n",
       "      <td>-0.010482</td>\n",
       "      <td>0.306879</td>\n",
       "      <td>0.028158</td>\n",
       "      <td>0.018057</td>\n",
       "      <td>-0.046340</td>\n",
       "      <td>-0.017425</td>\n",
       "    </tr>\n",
       "    <tr>\n",
       "      <th>Smoking</th>\n",
       "      <td>0.039111</td>\n",
       "      <td>0.131595</td>\n",
       "      <td>1.000000</td>\n",
       "      <td>0.119203</td>\n",
       "      <td>-0.094586</td>\n",
       "      <td>-0.019468</td>\n",
       "      <td>-0.140282</td>\n",
       "      <td>-0.044709</td>\n",
       "      <td>0.038724</td>\n",
       "      <td>0.101957</td>\n",
       "      <td>0.468018</td>\n",
       "      <td>-0.014494</td>\n",
       "      <td>-0.046065</td>\n",
       "      <td>-0.049610</td>\n",
       "      <td>0.095984</td>\n",
       "      <td>0.435382</td>\n",
       "      <td>-0.009550</td>\n",
       "      <td>0.032359</td>\n",
       "      <td>0.261654</td>\n",
       "    </tr>\n",
       "    <tr>\n",
       "      <th>Alcohol_Use</th>\n",
       "      <td>-0.037646</td>\n",
       "      <td>-0.059832</td>\n",
       "      <td>0.119203</td>\n",
       "      <td>1.000000</td>\n",
       "      <td>0.000005</td>\n",
       "      <td>-0.009383</td>\n",
       "      <td>-0.023592</td>\n",
       "      <td>-0.018815</td>\n",
       "      <td>0.051976</td>\n",
       "      <td>0.027991</td>\n",
       "      <td>0.075645</td>\n",
       "      <td>-0.009821</td>\n",
       "      <td>-0.056017</td>\n",
       "      <td>-0.064060</td>\n",
       "      <td>-0.049962</td>\n",
       "      <td>0.392609</td>\n",
       "      <td>-0.026751</td>\n",
       "      <td>0.031946</td>\n",
       "      <td>0.357055</td>\n",
       "    </tr>\n",
       "    <tr>\n",
       "      <th>Obesity</th>\n",
       "      <td>-0.011268</td>\n",
       "      <td>-0.185989</td>\n",
       "      <td>-0.094586</td>\n",
       "      <td>0.000005</td>\n",
       "      <td>1.000000</td>\n",
       "      <td>0.014936</td>\n",
       "      <td>-0.043085</td>\n",
       "      <td>-0.018268</td>\n",
       "      <td>-0.002164</td>\n",
       "      <td>0.002289</td>\n",
       "      <td>-0.063800</td>\n",
       "      <td>-0.002530</td>\n",
       "      <td>0.049428</td>\n",
       "      <td>0.042303</td>\n",
       "      <td>-0.111642</td>\n",
       "      <td>0.232921</td>\n",
       "      <td>0.023334</td>\n",
       "      <td>0.016222</td>\n",
       "      <td>0.281489</td>\n",
       "    </tr>\n",
       "    <tr>\n",
       "      <th>Family_History</th>\n",
       "      <td>0.047580</td>\n",
       "      <td>0.025279</td>\n",
       "      <td>-0.019468</td>\n",
       "      <td>-0.009383</td>\n",
       "      <td>0.014936</td>\n",
       "      <td>1.000000</td>\n",
       "      <td>0.014082</td>\n",
       "      <td>-0.021999</td>\n",
       "      <td>0.000157</td>\n",
       "      <td>0.000090</td>\n",
       "      <td>-0.020183</td>\n",
       "      <td>0.037806</td>\n",
       "      <td>0.014842</td>\n",
       "      <td>-0.024447</td>\n",
       "      <td>0.049063</td>\n",
       "      <td>0.040292</td>\n",
       "      <td>0.020397</td>\n",
       "      <td>0.077760</td>\n",
       "      <td>-0.035991</td>\n",
       "    </tr>\n",
       "    <tr>\n",
       "      <th>Diet_Red_Meat</th>\n",
       "      <td>-0.021794</td>\n",
       "      <td>0.047978</td>\n",
       "      <td>-0.140282</td>\n",
       "      <td>-0.023592</td>\n",
       "      <td>-0.043085</td>\n",
       "      <td>0.014082</td>\n",
       "      <td>1.000000</td>\n",
       "      <td>0.176626</td>\n",
       "      <td>-0.187754</td>\n",
       "      <td>-0.004522</td>\n",
       "      <td>-0.070402</td>\n",
       "      <td>-0.006954</td>\n",
       "      <td>-0.023282</td>\n",
       "      <td>0.029622</td>\n",
       "      <td>0.087774</td>\n",
       "      <td>0.278684</td>\n",
       "      <td>0.039664</td>\n",
       "      <td>0.018642</td>\n",
       "      <td>0.398503</td>\n",
       "    </tr>\n",
       "    <tr>\n",
       "      <th>Diet_Salted_Processed</th>\n",
       "      <td>-0.053078</td>\n",
       "      <td>0.022824</td>\n",
       "      <td>-0.044709</td>\n",
       "      <td>-0.018815</td>\n",
       "      <td>-0.018268</td>\n",
       "      <td>-0.021999</td>\n",
       "      <td>0.176626</td>\n",
       "      <td>1.000000</td>\n",
       "      <td>-0.222027</td>\n",
       "      <td>-0.013110</td>\n",
       "      <td>0.048024</td>\n",
       "      <td>0.063313</td>\n",
       "      <td>0.038395</td>\n",
       "      <td>0.125449</td>\n",
       "      <td>0.061613</td>\n",
       "      <td>0.380086</td>\n",
       "      <td>-0.014938</td>\n",
       "      <td>0.007715</td>\n",
       "      <td>0.456423</td>\n",
       "    </tr>\n",
       "    <tr>\n",
       "      <th>Fruit_Veg_Intake</th>\n",
       "      <td>0.001623</td>\n",
       "      <td>0.015527</td>\n",
       "      <td>0.038724</td>\n",
       "      <td>0.051976</td>\n",
       "      <td>-0.002164</td>\n",
       "      <td>0.000157</td>\n",
       "      <td>-0.187754</td>\n",
       "      <td>-0.222027</td>\n",
       "      <td>1.000000</td>\n",
       "      <td>0.000652</td>\n",
       "      <td>-0.049422</td>\n",
       "      <td>-0.056929</td>\n",
       "      <td>-0.050997</td>\n",
       "      <td>-0.156422</td>\n",
       "      <td>-0.025375</td>\n",
       "      <td>-0.151826</td>\n",
       "      <td>-0.003334</td>\n",
       "      <td>-0.007981</td>\n",
       "      <td>-0.449873</td>\n",
       "    </tr>\n",
       "    <tr>\n",
       "      <th>Physical_Activity</th>\n",
       "      <td>0.065389</td>\n",
       "      <td>0.050569</td>\n",
       "      <td>0.101957</td>\n",
       "      <td>0.027991</td>\n",
       "      <td>0.002289</td>\n",
       "      <td>0.000090</td>\n",
       "      <td>-0.004522</td>\n",
       "      <td>-0.013110</td>\n",
       "      <td>0.000652</td>\n",
       "      <td>1.000000</td>\n",
       "      <td>0.087697</td>\n",
       "      <td>0.032854</td>\n",
       "      <td>-0.001109</td>\n",
       "      <td>-0.020689</td>\n",
       "      <td>0.001138</td>\n",
       "      <td>0.068141</td>\n",
       "      <td>0.003495</td>\n",
       "      <td>0.050067</td>\n",
       "      <td>-0.309198</td>\n",
       "    </tr>\n",
       "    <tr>\n",
       "      <th>Air_Pollution</th>\n",
       "      <td>0.004875</td>\n",
       "      <td>0.059337</td>\n",
       "      <td>0.468018</td>\n",
       "      <td>0.075645</td>\n",
       "      <td>-0.063800</td>\n",
       "      <td>-0.020183</td>\n",
       "      <td>-0.070402</td>\n",
       "      <td>0.048024</td>\n",
       "      <td>-0.049422</td>\n",
       "      <td>0.087697</td>\n",
       "      <td>1.000000</td>\n",
       "      <td>0.098333</td>\n",
       "      <td>-0.044311</td>\n",
       "      <td>0.041411</td>\n",
       "      <td>0.063804</td>\n",
       "      <td>0.509763</td>\n",
       "      <td>0.036571</td>\n",
       "      <td>0.007669</td>\n",
       "      <td>0.157579</td>\n",
       "    </tr>\n",
       "    <tr>\n",
       "      <th>Occupational_Hazards</th>\n",
       "      <td>0.044980</td>\n",
       "      <td>0.068397</td>\n",
       "      <td>-0.014494</td>\n",
       "      <td>-0.009821</td>\n",
       "      <td>-0.002530</td>\n",
       "      <td>0.037806</td>\n",
       "      <td>-0.006954</td>\n",
       "      <td>0.063313</td>\n",
       "      <td>-0.056929</td>\n",
       "      <td>0.032854</td>\n",
       "      <td>0.098333</td>\n",
       "      <td>1.000000</td>\n",
       "      <td>-0.002001</td>\n",
       "      <td>0.039285</td>\n",
       "      <td>0.088503</td>\n",
       "      <td>0.356244</td>\n",
       "      <td>-0.011510</td>\n",
       "      <td>0.040042</td>\n",
       "      <td>0.003782</td>\n",
       "    </tr>\n",
       "    <tr>\n",
       "      <th>BRCA_Mutation</th>\n",
       "      <td>-0.025481</td>\n",
       "      <td>-0.087357</td>\n",
       "      <td>-0.046065</td>\n",
       "      <td>-0.056017</td>\n",
       "      <td>0.049428</td>\n",
       "      <td>0.014842</td>\n",
       "      <td>-0.023282</td>\n",
       "      <td>0.038395</td>\n",
       "      <td>-0.050997</td>\n",
       "      <td>-0.001109</td>\n",
       "      <td>-0.044311</td>\n",
       "      <td>-0.002001</td>\n",
       "      <td>1.000000</td>\n",
       "      <td>0.001606</td>\n",
       "      <td>-0.067100</td>\n",
       "      <td>-0.003202</td>\n",
       "      <td>-0.015638</td>\n",
       "      <td>0.025165</td>\n",
       "      <td>-0.006843</td>\n",
       "    </tr>\n",
       "    <tr>\n",
       "      <th>H_Pylori_Infection</th>\n",
       "      <td>0.022463</td>\n",
       "      <td>-0.010482</td>\n",
       "      <td>-0.049610</td>\n",
       "      <td>-0.064060</td>\n",
       "      <td>0.042303</td>\n",
       "      <td>-0.024447</td>\n",
       "      <td>0.029622</td>\n",
       "      <td>0.125449</td>\n",
       "      <td>-0.156422</td>\n",
       "      <td>-0.020689</td>\n",
       "      <td>0.041411</td>\n",
       "      <td>0.039285</td>\n",
       "      <td>0.001606</td>\n",
       "      <td>1.000000</td>\n",
       "      <td>-0.053559</td>\n",
       "      <td>0.046006</td>\n",
       "      <td>0.016345</td>\n",
       "      <td>-0.000238</td>\n",
       "      <td>0.086954</td>\n",
       "    </tr>\n",
       "    <tr>\n",
       "      <th>Calcium_Intake</th>\n",
       "      <td>0.056922</td>\n",
       "      <td>0.306879</td>\n",
       "      <td>0.095984</td>\n",
       "      <td>-0.049962</td>\n",
       "      <td>-0.111642</td>\n",
       "      <td>0.049063</td>\n",
       "      <td>0.087774</td>\n",
       "      <td>0.061613</td>\n",
       "      <td>-0.025375</td>\n",
       "      <td>0.001138</td>\n",
       "      <td>0.063804</td>\n",
       "      <td>0.088503</td>\n",
       "      <td>-0.067100</td>\n",
       "      <td>-0.053559</td>\n",
       "      <td>1.000000</td>\n",
       "      <td>0.074137</td>\n",
       "      <td>0.013858</td>\n",
       "      <td>-0.004833</td>\n",
       "      <td>0.041692</td>\n",
       "    </tr>\n",
       "    <tr>\n",
       "      <th>Overall_Risk_Score</th>\n",
       "      <td>-0.017242</td>\n",
       "      <td>0.028158</td>\n",
       "      <td>0.435382</td>\n",
       "      <td>0.392609</td>\n",
       "      <td>0.232921</td>\n",
       "      <td>0.040292</td>\n",
       "      <td>0.278684</td>\n",
       "      <td>0.380086</td>\n",
       "      <td>-0.151826</td>\n",
       "      <td>0.068141</td>\n",
       "      <td>0.509763</td>\n",
       "      <td>0.356244</td>\n",
       "      <td>-0.003202</td>\n",
       "      <td>0.046006</td>\n",
       "      <td>0.074137</td>\n",
       "      <td>1.000000</td>\n",
       "      <td>0.028846</td>\n",
       "      <td>0.050586</td>\n",
       "      <td>0.628367</td>\n",
       "    </tr>\n",
       "    <tr>\n",
       "      <th>BMI</th>\n",
       "      <td>-0.009343</td>\n",
       "      <td>0.018057</td>\n",
       "      <td>-0.009550</td>\n",
       "      <td>-0.026751</td>\n",
       "      <td>0.023334</td>\n",
       "      <td>0.020397</td>\n",
       "      <td>0.039664</td>\n",
       "      <td>-0.014938</td>\n",
       "      <td>-0.003334</td>\n",
       "      <td>0.003495</td>\n",
       "      <td>0.036571</td>\n",
       "      <td>-0.011510</td>\n",
       "      <td>-0.015638</td>\n",
       "      <td>0.016345</td>\n",
       "      <td>0.013858</td>\n",
       "      <td>0.028846</td>\n",
       "      <td>1.000000</td>\n",
       "      <td>-0.004842</td>\n",
       "      <td>0.005249</td>\n",
       "    </tr>\n",
       "    <tr>\n",
       "      <th>Physical_Activity_Level</th>\n",
       "      <td>-0.046683</td>\n",
       "      <td>-0.046340</td>\n",
       "      <td>0.032359</td>\n",
       "      <td>0.031946</td>\n",
       "      <td>0.016222</td>\n",
       "      <td>0.077760</td>\n",
       "      <td>0.018642</td>\n",
       "      <td>0.007715</td>\n",
       "      <td>-0.007981</td>\n",
       "      <td>0.050067</td>\n",
       "      <td>0.007669</td>\n",
       "      <td>0.040042</td>\n",
       "      <td>0.025165</td>\n",
       "      <td>-0.000238</td>\n",
       "      <td>-0.004833</td>\n",
       "      <td>0.050586</td>\n",
       "      <td>-0.004842</td>\n",
       "      <td>1.000000</td>\n",
       "      <td>-0.331530</td>\n",
       "    </tr>\n",
       "    <tr>\n",
       "      <th>balanced_lifesyle_score</th>\n",
       "      <td>-0.034877</td>\n",
       "      <td>-0.017425</td>\n",
       "      <td>0.261654</td>\n",
       "      <td>0.357055</td>\n",
       "      <td>0.281489</td>\n",
       "      <td>-0.035991</td>\n",
       "      <td>0.398503</td>\n",
       "      <td>0.456423</td>\n",
       "      <td>-0.449873</td>\n",
       "      <td>-0.309198</td>\n",
       "      <td>0.157579</td>\n",
       "      <td>0.003782</td>\n",
       "      <td>-0.006843</td>\n",
       "      <td>0.086954</td>\n",
       "      <td>0.041692</td>\n",
       "      <td>0.628367</td>\n",
       "      <td>0.005249</td>\n",
       "      <td>-0.331530</td>\n",
       "      <td>1.000000</td>\n",
       "    </tr>\n",
       "  </tbody>\n",
       "</table>\n",
       "</div>"
      ],
      "text/plain": [
       "                              Age    Gender   Smoking  Alcohol_Use   Obesity  \\\n",
       "Age                      1.000000  0.261532  0.039111    -0.037646 -0.011268   \n",
       "Gender                   0.261532  1.000000  0.131595    -0.059832 -0.185989   \n",
       "Smoking                  0.039111  0.131595  1.000000     0.119203 -0.094586   \n",
       "Alcohol_Use             -0.037646 -0.059832  0.119203     1.000000  0.000005   \n",
       "Obesity                 -0.011268 -0.185989 -0.094586     0.000005  1.000000   \n",
       "Family_History           0.047580  0.025279 -0.019468    -0.009383  0.014936   \n",
       "Diet_Red_Meat           -0.021794  0.047978 -0.140282    -0.023592 -0.043085   \n",
       "Diet_Salted_Processed   -0.053078  0.022824 -0.044709    -0.018815 -0.018268   \n",
       "Fruit_Veg_Intake         0.001623  0.015527  0.038724     0.051976 -0.002164   \n",
       "Physical_Activity        0.065389  0.050569  0.101957     0.027991  0.002289   \n",
       "Air_Pollution            0.004875  0.059337  0.468018     0.075645 -0.063800   \n",
       "Occupational_Hazards     0.044980  0.068397 -0.014494    -0.009821 -0.002530   \n",
       "BRCA_Mutation           -0.025481 -0.087357 -0.046065    -0.056017  0.049428   \n",
       "H_Pylori_Infection       0.022463 -0.010482 -0.049610    -0.064060  0.042303   \n",
       "Calcium_Intake           0.056922  0.306879  0.095984    -0.049962 -0.111642   \n",
       "Overall_Risk_Score      -0.017242  0.028158  0.435382     0.392609  0.232921   \n",
       "BMI                     -0.009343  0.018057 -0.009550    -0.026751  0.023334   \n",
       "Physical_Activity_Level -0.046683 -0.046340  0.032359     0.031946  0.016222   \n",
       "balanced_lifesyle_score -0.034877 -0.017425  0.261654     0.357055  0.281489   \n",
       "\n",
       "                         Family_History  Diet_Red_Meat  Diet_Salted_Processed  \\\n",
       "Age                            0.047580      -0.021794              -0.053078   \n",
       "Gender                         0.025279       0.047978               0.022824   \n",
       "Smoking                       -0.019468      -0.140282              -0.044709   \n",
       "Alcohol_Use                   -0.009383      -0.023592              -0.018815   \n",
       "Obesity                        0.014936      -0.043085              -0.018268   \n",
       "Family_History                 1.000000       0.014082              -0.021999   \n",
       "Diet_Red_Meat                  0.014082       1.000000               0.176626   \n",
       "Diet_Salted_Processed         -0.021999       0.176626               1.000000   \n",
       "Fruit_Veg_Intake               0.000157      -0.187754              -0.222027   \n",
       "Physical_Activity              0.000090      -0.004522              -0.013110   \n",
       "Air_Pollution                 -0.020183      -0.070402               0.048024   \n",
       "Occupational_Hazards           0.037806      -0.006954               0.063313   \n",
       "BRCA_Mutation                  0.014842      -0.023282               0.038395   \n",
       "H_Pylori_Infection            -0.024447       0.029622               0.125449   \n",
       "Calcium_Intake                 0.049063       0.087774               0.061613   \n",
       "Overall_Risk_Score             0.040292       0.278684               0.380086   \n",
       "BMI                            0.020397       0.039664              -0.014938   \n",
       "Physical_Activity_Level        0.077760       0.018642               0.007715   \n",
       "balanced_lifesyle_score       -0.035991       0.398503               0.456423   \n",
       "\n",
       "                         Fruit_Veg_Intake  Physical_Activity  Air_Pollution  \\\n",
       "Age                              0.001623           0.065389       0.004875   \n",
       "Gender                           0.015527           0.050569       0.059337   \n",
       "Smoking                          0.038724           0.101957       0.468018   \n",
       "Alcohol_Use                      0.051976           0.027991       0.075645   \n",
       "Obesity                         -0.002164           0.002289      -0.063800   \n",
       "Family_History                   0.000157           0.000090      -0.020183   \n",
       "Diet_Red_Meat                   -0.187754          -0.004522      -0.070402   \n",
       "Diet_Salted_Processed           -0.222027          -0.013110       0.048024   \n",
       "Fruit_Veg_Intake                 1.000000           0.000652      -0.049422   \n",
       "Physical_Activity                0.000652           1.000000       0.087697   \n",
       "Air_Pollution                   -0.049422           0.087697       1.000000   \n",
       "Occupational_Hazards            -0.056929           0.032854       0.098333   \n",
       "BRCA_Mutation                   -0.050997          -0.001109      -0.044311   \n",
       "H_Pylori_Infection              -0.156422          -0.020689       0.041411   \n",
       "Calcium_Intake                  -0.025375           0.001138       0.063804   \n",
       "Overall_Risk_Score              -0.151826           0.068141       0.509763   \n",
       "BMI                             -0.003334           0.003495       0.036571   \n",
       "Physical_Activity_Level         -0.007981           0.050067       0.007669   \n",
       "balanced_lifesyle_score         -0.449873          -0.309198       0.157579   \n",
       "\n",
       "                         Occupational_Hazards  BRCA_Mutation  \\\n",
       "Age                                  0.044980      -0.025481   \n",
       "Gender                               0.068397      -0.087357   \n",
       "Smoking                             -0.014494      -0.046065   \n",
       "Alcohol_Use                         -0.009821      -0.056017   \n",
       "Obesity                             -0.002530       0.049428   \n",
       "Family_History                       0.037806       0.014842   \n",
       "Diet_Red_Meat                       -0.006954      -0.023282   \n",
       "Diet_Salted_Processed                0.063313       0.038395   \n",
       "Fruit_Veg_Intake                    -0.056929      -0.050997   \n",
       "Physical_Activity                    0.032854      -0.001109   \n",
       "Air_Pollution                        0.098333      -0.044311   \n",
       "Occupational_Hazards                 1.000000      -0.002001   \n",
       "BRCA_Mutation                       -0.002001       1.000000   \n",
       "H_Pylori_Infection                   0.039285       0.001606   \n",
       "Calcium_Intake                       0.088503      -0.067100   \n",
       "Overall_Risk_Score                   0.356244      -0.003202   \n",
       "BMI                                 -0.011510      -0.015638   \n",
       "Physical_Activity_Level              0.040042       0.025165   \n",
       "balanced_lifesyle_score              0.003782      -0.006843   \n",
       "\n",
       "                         H_Pylori_Infection  Calcium_Intake  \\\n",
       "Age                                0.022463        0.056922   \n",
       "Gender                            -0.010482        0.306879   \n",
       "Smoking                           -0.049610        0.095984   \n",
       "Alcohol_Use                       -0.064060       -0.049962   \n",
       "Obesity                            0.042303       -0.111642   \n",
       "Family_History                    -0.024447        0.049063   \n",
       "Diet_Red_Meat                      0.029622        0.087774   \n",
       "Diet_Salted_Processed              0.125449        0.061613   \n",
       "Fruit_Veg_Intake                  -0.156422       -0.025375   \n",
       "Physical_Activity                 -0.020689        0.001138   \n",
       "Air_Pollution                      0.041411        0.063804   \n",
       "Occupational_Hazards               0.039285        0.088503   \n",
       "BRCA_Mutation                      0.001606       -0.067100   \n",
       "H_Pylori_Infection                 1.000000       -0.053559   \n",
       "Calcium_Intake                    -0.053559        1.000000   \n",
       "Overall_Risk_Score                 0.046006        0.074137   \n",
       "BMI                                0.016345        0.013858   \n",
       "Physical_Activity_Level           -0.000238       -0.004833   \n",
       "balanced_lifesyle_score            0.086954        0.041692   \n",
       "\n",
       "                         Overall_Risk_Score       BMI  \\\n",
       "Age                               -0.017242 -0.009343   \n",
       "Gender                             0.028158  0.018057   \n",
       "Smoking                            0.435382 -0.009550   \n",
       "Alcohol_Use                        0.392609 -0.026751   \n",
       "Obesity                            0.232921  0.023334   \n",
       "Family_History                     0.040292  0.020397   \n",
       "Diet_Red_Meat                      0.278684  0.039664   \n",
       "Diet_Salted_Processed              0.380086 -0.014938   \n",
       "Fruit_Veg_Intake                  -0.151826 -0.003334   \n",
       "Physical_Activity                  0.068141  0.003495   \n",
       "Air_Pollution                      0.509763  0.036571   \n",
       "Occupational_Hazards               0.356244 -0.011510   \n",
       "BRCA_Mutation                     -0.003202 -0.015638   \n",
       "H_Pylori_Infection                 0.046006  0.016345   \n",
       "Calcium_Intake                     0.074137  0.013858   \n",
       "Overall_Risk_Score                 1.000000  0.028846   \n",
       "BMI                                0.028846  1.000000   \n",
       "Physical_Activity_Level            0.050586 -0.004842   \n",
       "balanced_lifesyle_score            0.628367  0.005249   \n",
       "\n",
       "                         Physical_Activity_Level  balanced_lifesyle_score  \n",
       "Age                                    -0.046683                -0.034877  \n",
       "Gender                                 -0.046340                -0.017425  \n",
       "Smoking                                 0.032359                 0.261654  \n",
       "Alcohol_Use                             0.031946                 0.357055  \n",
       "Obesity                                 0.016222                 0.281489  \n",
       "Family_History                          0.077760                -0.035991  \n",
       "Diet_Red_Meat                           0.018642                 0.398503  \n",
       "Diet_Salted_Processed                   0.007715                 0.456423  \n",
       "Fruit_Veg_Intake                       -0.007981                -0.449873  \n",
       "Physical_Activity                       0.050067                -0.309198  \n",
       "Air_Pollution                           0.007669                 0.157579  \n",
       "Occupational_Hazards                    0.040042                 0.003782  \n",
       "BRCA_Mutation                           0.025165                -0.006843  \n",
       "H_Pylori_Infection                     -0.000238                 0.086954  \n",
       "Calcium_Intake                         -0.004833                 0.041692  \n",
       "Overall_Risk_Score                      0.050586                 0.628367  \n",
       "BMI                                    -0.004842                 0.005249  \n",
       "Physical_Activity_Level                 1.000000                -0.331530  \n",
       "balanced_lifesyle_score                -0.331530                 1.000000  "
      ]
     },
     "execution_count": 43,
     "metadata": {},
     "output_type": "execute_result"
    }
   ],
   "source": [
    "corr_matrix"
   ]
  },
  {
   "cell_type": "code",
   "execution_count": 44,
   "id": "f91841bf-27e1-4258-a945-16dfba51c99b",
   "metadata": {},
   "outputs": [
    {
     "data": {
      "text/plain": [
       "Overall_Risk_Score         1.000000\n",
       "balanced_lifesyle_score    0.628367\n",
       "Air_Pollution              0.509763\n",
       "Smoking                    0.435382\n",
       "Alcohol_Use                0.392609\n",
       "Diet_Salted_Processed      0.380086\n",
       "Occupational_Hazards       0.356244\n",
       "Diet_Red_Meat              0.278684\n",
       "Obesity                    0.232921\n",
       "Calcium_Intake             0.074137\n",
       "Physical_Activity          0.068141\n",
       "Physical_Activity_Level    0.050586\n",
       "H_Pylori_Infection         0.046006\n",
       "Family_History             0.040292\n",
       "BMI                        0.028846\n",
       "Gender                     0.028158\n",
       "BRCA_Mutation             -0.003202\n",
       "Age                       -0.017242\n",
       "Fruit_Veg_Intake          -0.151826\n",
       "Name: Overall_Risk_Score, dtype: float64"
      ]
     },
     "execution_count": 44,
     "metadata": {},
     "output_type": "execute_result"
    }
   ],
   "source": [
    "corr_matrix['Overall_Risk_Score'].sort_values(ascending=False)"
   ]
  },
  {
   "cell_type": "code",
   "execution_count": 121,
   "id": "86b9d8e6-2dde-4270-a505-442631d93472",
   "metadata": {},
   "outputs": [
    {
     "data": {
      "image/png": "[encoded data removed]",
      "text/plain": [
       "<Figure size 600x400 with 4 Axes>"
      ]
     },
     "metadata": {},
     "output_type": "display_data"
    }
   ],
   "source": [
    "attributes = ['Overall_Risk_Score', 'balanced_lifesyle_score']\n",
    "scatter_matrix(cancer_risk_factors[attributes], figsize= (6, 4))\n",
    "save_figs('scatter_matrix_plots_corr2')"
   ]
  },
  {
   "cell_type": "markdown",
   "id": "f28b4ca5-3f12-4e02-a105-267a81a935e8",
   "metadata": {},
   "source": [
    "This combined attribute illustrates the potential importance of the included features in relation to cancer risk. However, I won’t include this observation in the primary feature preprocessing, since it might be more interesting to examine the importance of the individual attributes. Maybe later, I’ll revisit this as an exercise."
   ]
  },
  {
   "cell_type": "markdown",
   "id": "9234a0cf-8d4a-4e8f-a348-c57585e91dce",
   "metadata": {},
   "source": [
    "## prepare data for ml algorithm - preprocess"
   ]
  },
  {
   "cell_type": "markdown",
   "id": "a8fe626f-76ea-4cb9-8598-d0d4783c0efa",
   "metadata": {},
   "source": [
    "### + data cleaning"
   ]
  },
  {
   "cell_type": "markdown",
   "id": "b2213e61-b1ab-4744-80d2-936481ca4f59",
   "metadata": {},
   "source": [
    "Original training set without the label\n",
    "\n",
    "target is risk level, overall risk score and cancer type are also related so they are excluded as well. drop 'Patient_ID', as  patient ID does not hold any useful info in this context"
   ]
  },
  {
   "cell_type": "code",
   "execution_count": 60,
   "id": "ed8fb46f-1e35-4b53-b9b1-51e2a8f9cc15",
   "metadata": {},
   "outputs": [],
   "source": [
    "cancer_risk_factors = train_set_strat.drop(['Risk_Level', 'Overall_Risk_Score', 'Cancer_Type', 'Patient_ID',], axis=1)\n",
    "cancer_risk_factors_labels = train_set_strat['Overall_Risk_Score'].copy()"
   ]
  },
  {
   "cell_type": "code",
   "execution_count": 61,
   "id": "5a0a98bb-fd1d-40cc-adae-8ad515f2cbd5",
   "metadata": {},
   "outputs": [
    {
     "data": {
      "text/plain": [
       "Index(['Age', 'Gender', 'Smoking', 'Alcohol_Use', 'Obesity', 'Family_History',\n",
       "       'Diet_Red_Meat', 'Diet_Salted_Processed', 'Fruit_Veg_Intake',\n",
       "       'Physical_Activity', 'Air_Pollution', 'Occupational_Hazards',\n",
       "       'BRCA_Mutation', 'H_Pylori_Infection', 'Calcium_Intake', 'BMI',\n",
       "       'Physical_Activity_Level'],\n",
       "      dtype='object')"
      ]
     },
     "execution_count": 61,
     "metadata": {},
     "output_type": "execute_result"
    }
   ],
   "source": [
    "cancer_risk_factors.columns\n"
   ]
  },
  {
   "cell_type": "code",
   "execution_count": 62,
   "id": "ecfa854d-e996-460f-aef3-acf1568b80ff",
   "metadata": {},
   "outputs": [
    {
     "data": {
      "text/plain": [
       "0"
      ]
     },
     "execution_count": 62,
     "metadata": {},
     "output_type": "execute_result"
    }
   ],
   "source": [
    "cancer_risk_factors.isna().any().sum()"
   ]
  },
  {
   "cell_type": "code",
   "execution_count": 63,
   "id": "32dccfe8-81b3-46cb-896d-3baa563f47cd",
   "metadata": {},
   "outputs": [
    {
     "data": {
      "text/plain": [
       "0"
      ]
     },
     "execution_count": 63,
     "metadata": {},
     "output_type": "execute_result"
    }
   ],
   "source": [
    "cancer_risk_factors.isnull().any().sum()"
   ]
  },
  {
   "cell_type": "markdown",
   "id": "56b070d4-be29-468f-b1ad-17bca20f661f",
   "metadata": {},
   "source": [
    "No attributes with NaN or missing vcalues"
   ]
  },
  {
   "cell_type": "markdown",
   "id": "e7a4e50f-6845-40a0-8624-d279ae6aa8e9",
   "metadata": {},
   "source": [
    "skip outlier search"
   ]
  },
  {
   "cell_type": "markdown",
   "id": "37f68d15-612c-41f5-a23f-87c917516d42",
   "metadata": {},
   "source": [
    "## Handling text and categorical attributes"
   ]
  },
  {
   "cell_type": "code",
   "execution_count": 64,
   "id": "36943012-c536-458a-9b36-f133b81a2835",
   "metadata": {},
   "outputs": [],
   "source": [
    "from sklearn.preprocessing import OneHotEncoder"
   ]
  },
  {
   "cell_type": "code",
   "execution_count": 65,
   "id": "283c5940-0697-42a4-94d9-970b875a4a26",
   "metadata": {},
   "outputs": [
    {
     "data": {
      "text/plain": [
       "Index([], dtype='object')"
      ]
     },
     "execution_count": 65,
     "metadata": {},
     "output_type": "execute_result"
    }
   ],
   "source": [
    "cancer_risk_factors.select_dtypes(exclude=np.number).columns"
   ]
  },
  {
   "cell_type": "markdown",
   "id": "e3c72e55-074d-4421-88b3-8c860b664b71",
   "metadata": {},
   "source": [
    " would chose the one hot  encoder, but i excluded all categorical data and chose the numerical attribute as label"
   ]
  },
  {
   "cell_type": "markdown",
   "id": "daa3fb48-58c7-473c-84af-67c62e055863",
   "metadata": {},
   "source": [
    "### Feature scaling"
   ]
  },
  {
   "cell_type": "code",
   "execution_count": 66,
   "id": "634191ef-2be2-4b0d-a347-e0077dad85c6",
   "metadata": {},
   "outputs": [],
   "source": [
    "# val - min / std\n",
    "from sklearn.preprocessing import StandardScaler\n",
    "\n",
    "std_scaler = StandardScaler()\n",
    "cancer_std_scaled = std_scaler.fit_transform(cancer_risk_factors)"
   ]
  },
  {
   "cell_type": "code",
   "execution_count": 70,
   "id": "01452826-5de4-4f2f-aca7-325449f10715",
   "metadata": {},
   "outputs": [
    {
     "data": {
      "text/plain": [
       "12"
      ]
     },
     "execution_count": 70,
     "metadata": {},
     "output_type": "execute_result"
    }
   ],
   "source": [
    "cancer_risk_factors.columns.get_loc('BRCA_Mutation')"
   ]
  },
  {
   "cell_type": "code",
   "execution_count": 75,
   "id": "1563b688-f3b8-4d21-bc78-bb95eafaf2a9",
   "metadata": {},
   "outputs": [
    {
     "data": {
      "text/plain": [
       "(array([1555.,    0.,    0.,    0.,    0.,    0.,    0.,    0.,    0.,\n",
       "          45.]),\n",
       " array([-0.17011439,  0.43473678,  1.03958796,  1.64443913,  2.24929031,\n",
       "         2.85414148,  3.45899266,  4.06384384,  4.66869501,  5.27354619,\n",
       "         5.87839736]),\n",
       " <BarContainer object of 10 artists>)"
      ]
     },
     "execution_count": 75,
     "metadata": {},
     "output_type": "execute_result"
    },
    {
     "data": {
      "image/png": "[encoded data removed]",
      "text/plain": [
       "<Figure size 640x480 with 1 Axes>"
      ]
     },
     "metadata": {},
     "output_type": "display_data"
    }
   ],
   "source": [
    "plt.hist(cancer_std_scaled[:,12])"
   ]
  },
  {
   "cell_type": "markdown",
   "id": "0be77f74-fdd7-4c02-bb7a-b6baacefc107",
   "metadata": {},
   "source": [
    "### Transformation pipeline\n",
    "\n",
    "For now I will only use standard scaling to preprocess, later I will test combining some attributes to balanced lifestlye score."
   ]
  },
  {
   "cell_type": "code",
   "execution_count": 77,
   "id": "94a02e96-ce89-445c-90ae-3bbb6e5b5019",
   "metadata": {},
   "outputs": [],
   "source": [
    "from sklearn.compose import ColumnTransformer"
   ]
  },
  {
   "cell_type": "code",
   "execution_count": 86,
   "id": "e6a22f5b-68db-4c18-8327-f42684b293f1",
   "metadata": {},
   "outputs": [],
   "source": [
    "features = cancer_risk_factors.columns.tolist()\n",
    "prepoc = ColumnTransformer(transformers=[('preproceesing_all', StandardScaler(), features)], remainder='passthrough')"
   ]
  },
  {
   "cell_type": "code",
   "execution_count": 87,
   "id": "90ac0ffb-c5f1-45c0-8ca1-544444b5283b",
   "metadata": {},
   "outputs": [],
   "source": [
    "cancer_risk_prepared = prepoc.fit_transform(cancer_risk_factors)"
   ]
  },
  {
   "cell_type": "code",
   "execution_count": 88,
   "id": "3ff0f4db-8dbb-45de-b8ac-7d117cf5c37b",
   "metadata": {},
   "outputs": [
    {
     "data": {
      "text/plain": [
       "(1600, 17)"
      ]
     },
     "execution_count": 88,
     "metadata": {},
     "output_type": "execute_result"
    }
   ],
   "source": [
    "cancer_risk_prepared.shape"
   ]
  },
  {
   "cell_type": "markdown",
   "id": "37acf46e-099c-49bd-a063-35952ba3616d",
   "metadata": {},
   "source": [
    "## Select and train a model"
   ]
  },
  {
   "cell_type": "markdown",
   "id": "98fcd73d-85be-452a-845d-55996a0f478d",
   "metadata": {},
   "source": [
    "### training and evaluating on the training set"
   ]
  },
  {
   "cell_type": "code",
   "execution_count": 89,
   "id": "8e61bf62-82b8-49a4-aa61-8ec3672356e5",
   "metadata": {},
   "outputs": [],
   "source": [
    "from sklearn.pipeline import make_pipeline"
   ]
  },
  {
   "cell_type": "code",
   "execution_count": 90,
   "id": "08a926b9-3bba-48ef-bc8d-c4282eb087cb",
   "metadata": {},
   "outputs": [
    {
     "data": {
      "text/html": [
       "<style>#sk-container-id-1 {color: black;}#sk-container-id-1 pre{padding: 0;}#sk-container-id-1 div.sk-toggleable {background-color: white;}#sk-container-id-1 label.sk-toggleable__label {cursor: pointer;display: block;width: 100%;margin-bottom: 0;padding: 0.3em;box-sizing: border-box;text-align: center;}#sk-container-id-1 label.sk-toggleable__label-arrow:before {content: \"▸\";float: left;margin-right: 0.25em;color: #696969;}#sk-container-id-1 label.sk-toggleable__label-arrow:hover:before {color: black;}#sk-container-id-1 div.sk-estimator:hover label.sk-toggleable__label-arrow:before {color: black;}#sk-container-id-1 div.sk-toggleable__content {max-height: 0;max-width: 0;overflow: hidden;text-align: left;background-color: #f0f8ff;}#sk-container-id-1 div.sk-toggleable__content pre {margin: 0.2em;color: black;border-radius: 0.25em;background-color: #f0f8ff;}#sk-container-id-1 input.sk-toggleable__control:checked~div.sk-toggleable__content {max-height: 200px;max-width: 100%;overflow: auto;}#sk-container-id-1 input.sk-toggleable__control:checked~label.sk-toggleable__label-arrow:before {content: \"▾\";}#sk-container-id-1 div.sk-estimator input.sk-toggleable__control:checked~label.sk-toggleable__label {background-color: #d4ebff;}#sk-container-id-1 div.sk-label input.sk-toggleable__control:checked~label.sk-toggleable__label {background-color: #d4ebff;}#sk-container-id-1 input.sk-hidden--visually {border: 0;clip: rect(1px 1px 1px 1px);clip: rect(1px, 1px, 1px, 1px);height: 1px;margin: -1px;overflow: hidden;padding: 0;position: absolute;width: 1px;}#sk-container-id-1 div.sk-estimator {font-family: monospace;background-color: #f0f8ff;border: 1px dotted black;border-radius: 0.25em;box-sizing: border-box;margin-bottom: 0.5em;}#sk-container-id-1 div.sk-estimator:hover {background-color: #d4ebff;}#sk-container-id-1 div.sk-parallel-item::after {content: \"\";width: 100%;border-bottom: 1px solid gray;flex-grow: 1;}#sk-container-id-1 div.sk-label:hover label.sk-toggleable__label {background-color: #d4ebff;}#sk-container-id-1 div.sk-serial::before {content: \"\";position: absolute;border-left: 1px solid gray;box-sizing: border-box;top: 0;bottom: 0;left: 50%;z-index: 0;}#sk-container-id-1 div.sk-serial {display: flex;flex-direction: column;align-items: center;background-color: white;padding-right: 0.2em;padding-left: 0.2em;position: relative;}#sk-container-id-1 div.sk-item {position: relative;z-index: 1;}#sk-container-id-1 div.sk-parallel {display: flex;align-items: stretch;justify-content: center;background-color: white;position: relative;}#sk-container-id-1 div.sk-item::before, #sk-container-id-1 div.sk-parallel-item::before {content: \"\";position: absolute;border-left: 1px solid gray;box-sizing: border-box;top: 0;bottom: 0;left: 50%;z-index: -1;}#sk-container-id-1 div.sk-parallel-item {display: flex;flex-direction: column;z-index: 1;position: relative;background-color: white;}#sk-container-id-1 div.sk-parallel-item:first-child::after {align-self: flex-end;width: 50%;}#sk-container-id-1 div.sk-parallel-item:last-child::after {align-self: flex-start;width: 50%;}#sk-container-id-1 div.sk-parallel-item:only-child::after {width: 0;}#sk-container-id-1 div.sk-dashed-wrapped {border: 1px dashed gray;margin: 0 0.4em 0.5em 0.4em;box-sizing: border-box;padding-bottom: 0.4em;background-color: white;}#sk-container-id-1 div.sk-label label {font-family: monospace;font-weight: bold;display: inline-block;line-height: 1.2em;}#sk-container-id-1 div.sk-label-container {text-align: center;}#sk-container-id-1 div.sk-container {/* jupyter's `normalize.less` sets `[hidden] { display: none; }` but bootstrap.min.css set `[hidden] { display: none !important; }` so we also need the `!important` here to be able to override the default hidden behavior on the sphinx rendered scikit-learn.org. See: https://github.com/scikit-learn/scikit-learn/issues/21755 */display: inline-block !important;position: relative;}#sk-container-id-1 div.sk-text-repr-fallback {display: none;}</style><div id=\"sk-container-id-1\" class=\"sk-top-container\"><div class=\"sk-text-repr-fallback\"><pre>Pipeline(steps=[(&#x27;columntransformer&#x27;,\n",
       "                 ColumnTransformer(remainder=&#x27;passthrough&#x27;,\n",
       "                                   transformers=[(&#x27;preproceesing_all&#x27;,\n",
       "                                                  StandardScaler(),\n",
       "                                                  [&#x27;Age&#x27;, &#x27;Gender&#x27;, &#x27;Smoking&#x27;,\n",
       "                                                   &#x27;Alcohol_Use&#x27;, &#x27;Obesity&#x27;,\n",
       "                                                   &#x27;Family_History&#x27;,\n",
       "                                                   &#x27;Diet_Red_Meat&#x27;,\n",
       "                                                   &#x27;Diet_Salted_Processed&#x27;,\n",
       "                                                   &#x27;Fruit_Veg_Intake&#x27;,\n",
       "                                                   &#x27;Physical_Activity&#x27;,\n",
       "                                                   &#x27;Air_Pollution&#x27;,\n",
       "                                                   &#x27;Occupational_Hazards&#x27;,\n",
       "                                                   &#x27;BRCA_Mutation&#x27;,\n",
       "                                                   &#x27;H_Pylori_Infection&#x27;,\n",
       "                                                   &#x27;Calcium_Intake&#x27;, &#x27;BMI&#x27;,\n",
       "                                                   &#x27;Physical_Activity_Level&#x27;])])),\n",
       "                (&#x27;linearregression&#x27;, LinearRegression())])</pre><b>In a Jupyter environment, please rerun this cell to show the HTML representation or trust the notebook. <br />On GitHub, the HTML representation is unable to render, please try loading this page with nbviewer.org.</b></div><div class=\"sk-container\" hidden><div class=\"sk-item sk-dashed-wrapped\"><div class=\"sk-label-container\"><div class=\"sk-label sk-toggleable\"><input class=\"sk-toggleable__control sk-hidden--visually\" id=\"sk-estimator-id-1\" type=\"checkbox\" ><label for=\"sk-estimator-id-1\" class=\"sk-toggleable__label sk-toggleable__label-arrow\">Pipeline</label><div class=\"sk-toggleable__content\"><pre>Pipeline(steps=[(&#x27;columntransformer&#x27;,\n",
       "                 ColumnTransformer(remainder=&#x27;passthrough&#x27;,\n",
       "                                   transformers=[(&#x27;preproceesing_all&#x27;,\n",
       "                                                  StandardScaler(),\n",
       "                                                  [&#x27;Age&#x27;, &#x27;Gender&#x27;, &#x27;Smoking&#x27;,\n",
       "                                                   &#x27;Alcohol_Use&#x27;, &#x27;Obesity&#x27;,\n",
       "                                                   &#x27;Family_History&#x27;,\n",
       "                                                   &#x27;Diet_Red_Meat&#x27;,\n",
       "                                                   &#x27;Diet_Salted_Processed&#x27;,\n",
       "                                                   &#x27;Fruit_Veg_Intake&#x27;,\n",
       "                                                   &#x27;Physical_Activity&#x27;,\n",
       "                                                   &#x27;Air_Pollution&#x27;,\n",
       "                                                   &#x27;Occupational_Hazards&#x27;,\n",
       "                                                   &#x27;BRCA_Mutation&#x27;,\n",
       "                                                   &#x27;H_Pylori_Infection&#x27;,\n",
       "                                                   &#x27;Calcium_Intake&#x27;, &#x27;BMI&#x27;,\n",
       "                                                   &#x27;Physical_Activity_Level&#x27;])])),\n",
       "                (&#x27;linearregression&#x27;, LinearRegression())])</pre></div></div></div><div class=\"sk-serial\"><div class=\"sk-item sk-dashed-wrapped\"><div class=\"sk-label-container\"><div class=\"sk-label sk-toggleable\"><input class=\"sk-toggleable__control sk-hidden--visually\" id=\"sk-estimator-id-2\" type=\"checkbox\" ><label for=\"sk-estimator-id-2\" class=\"sk-toggleable__label sk-toggleable__label-arrow\">columntransformer: ColumnTransformer</label><div class=\"sk-toggleable__content\"><pre>ColumnTransformer(remainder=&#x27;passthrough&#x27;,\n",
       "                  transformers=[(&#x27;preproceesing_all&#x27;, StandardScaler(),\n",
       "                                 [&#x27;Age&#x27;, &#x27;Gender&#x27;, &#x27;Smoking&#x27;, &#x27;Alcohol_Use&#x27;,\n",
       "                                  &#x27;Obesity&#x27;, &#x27;Family_History&#x27;, &#x27;Diet_Red_Meat&#x27;,\n",
       "                                  &#x27;Diet_Salted_Processed&#x27;, &#x27;Fruit_Veg_Intake&#x27;,\n",
       "                                  &#x27;Physical_Activity&#x27;, &#x27;Air_Pollution&#x27;,\n",
       "                                  &#x27;Occupational_Hazards&#x27;, &#x27;BRCA_Mutation&#x27;,\n",
       "                                  &#x27;H_Pylori_Infection&#x27;, &#x27;Calcium_Intake&#x27;, &#x27;BMI&#x27;,\n",
       "                                  &#x27;Physical_Activity_Level&#x27;])])</pre></div></div></div><div class=\"sk-parallel\"><div class=\"sk-parallel-item\"><div class=\"sk-item\"><div class=\"sk-label-container\"><div class=\"sk-label sk-toggleable\"><input class=\"sk-toggleable__control sk-hidden--visually\" id=\"sk-estimator-id-3\" type=\"checkbox\" ><label for=\"sk-estimator-id-3\" class=\"sk-toggleable__label sk-toggleable__label-arrow\">preproceesing_all</label><div class=\"sk-toggleable__content\"><pre>[&#x27;Age&#x27;, &#x27;Gender&#x27;, &#x27;Smoking&#x27;, &#x27;Alcohol_Use&#x27;, &#x27;Obesity&#x27;, &#x27;Family_History&#x27;, &#x27;Diet_Red_Meat&#x27;, &#x27;Diet_Salted_Processed&#x27;, &#x27;Fruit_Veg_Intake&#x27;, &#x27;Physical_Activity&#x27;, &#x27;Air_Pollution&#x27;, &#x27;Occupational_Hazards&#x27;, &#x27;BRCA_Mutation&#x27;, &#x27;H_Pylori_Infection&#x27;, &#x27;Calcium_Intake&#x27;, &#x27;BMI&#x27;, &#x27;Physical_Activity_Level&#x27;]</pre></div></div></div><div class=\"sk-serial\"><div class=\"sk-item\"><div class=\"sk-estimator sk-toggleable\"><input class=\"sk-toggleable__control sk-hidden--visually\" id=\"sk-estimator-id-4\" type=\"checkbox\" ><label for=\"sk-estimator-id-4\" class=\"sk-toggleable__label sk-toggleable__label-arrow\">StandardScaler</label><div class=\"sk-toggleable__content\"><pre>StandardScaler()</pre></div></div></div></div></div></div><div class=\"sk-parallel-item\"><div class=\"sk-item\"><div class=\"sk-label-container\"><div class=\"sk-label sk-toggleable\"><input class=\"sk-toggleable__control sk-hidden--visually\" id=\"sk-estimator-id-5\" type=\"checkbox\" ><label for=\"sk-estimator-id-5\" class=\"sk-toggleable__label sk-toggleable__label-arrow\">remainder</label><div class=\"sk-toggleable__content\"><pre>[]</pre></div></div></div><div class=\"sk-serial\"><div class=\"sk-item\"><div class=\"sk-estimator sk-toggleable\"><input class=\"sk-toggleable__control sk-hidden--visually\" id=\"sk-estimator-id-6\" type=\"checkbox\" ><label for=\"sk-estimator-id-6\" class=\"sk-toggleable__label sk-toggleable__label-arrow\">passthrough</label><div class=\"sk-toggleable__content\"><pre>passthrough</pre></div></div></div></div></div></div></div></div><div class=\"sk-item\"><div class=\"sk-estimator sk-toggleable\"><input class=\"sk-toggleable__control sk-hidden--visually\" id=\"sk-estimator-id-7\" type=\"checkbox\" ><label for=\"sk-estimator-id-7\" class=\"sk-toggleable__label sk-toggleable__label-arrow\">LinearRegression</label><div class=\"sk-toggleable__content\"><pre>LinearRegression()</pre></div></div></div></div></div></div></div>"
      ],
      "text/plain": [
       "Pipeline(steps=[('columntransformer',\n",
       "                 ColumnTransformer(remainder='passthrough',\n",
       "                                   transformers=[('preproceesing_all',\n",
       "                                                  StandardScaler(),\n",
       "                                                  ['Age', 'Gender', 'Smoking',\n",
       "                                                   'Alcohol_Use', 'Obesity',\n",
       "                                                   'Family_History',\n",
       "                                                   'Diet_Red_Meat',\n",
       "                                                   'Diet_Salted_Processed',\n",
       "                                                   'Fruit_Veg_Intake',\n",
       "                                                   'Physical_Activity',\n",
       "                                                   'Air_Pollution',\n",
       "                                                   'Occupational_Hazards',\n",
       "                                                   'BRCA_Mutation',\n",
       "                                                   'H_Pylori_Infection',\n",
       "                                                   'Calcium_Intake', 'BMI',\n",
       "                                                   'Physical_Activity_Level'])])),\n",
       "                ('linearregression', LinearRegression())])"
      ]
     },
     "execution_count": 90,
     "metadata": {},
     "output_type": "execute_result"
    }
   ],
   "source": [
    "# lets first try a simple linear regression model\n",
    "from sklearn.linear_model import LinearRegression\n",
    "lin_reg = make_pipeline(prepoc, LinearRegression())\n",
    "lin_reg.fit(cancer_risk_factors, cancer_risk_factors_labels)"
   ]
  },
  {
   "cell_type": "markdown",
   "id": "8b72da58-b7d0-492b-b037-b1aa259482bf",
   "metadata": {},
   "source": [
    "try pipeine on training instances"
   ]
  },
  {
   "cell_type": "code",
   "execution_count": 94,
   "id": "86a3441d-a414-404f-9f56-e6ded4faf144",
   "metadata": {},
   "outputs": [
    {
     "data": {
      "text/plain": [
       "array([0.36, 0.29, 0.37, 0.58, 0.43])"
      ]
     },
     "execution_count": 94,
     "metadata": {},
     "output_type": "execute_result"
    }
   ],
   "source": [
    "pred = lin_reg.predict(cancer_risk_factors)\n",
    "pred[:5].round(2)"
   ]
  },
  {
   "cell_type": "code",
   "execution_count": 97,
   "id": "35c1f758-1ff9-450e-a435-e9568bb9cade",
   "metadata": {},
   "outputs": [
    {
     "data": {
      "text/plain": [
       "array([0.3613196 , 0.29205558, 0.36992365, 0.57675886, 0.43224562])"
      ]
     },
     "execution_count": 97,
     "metadata": {},
     "output_type": "execute_result"
    }
   ],
   "source": [
    "pred[:5]"
   ]
  },
  {
   "cell_type": "code",
   "execution_count": 95,
   "id": "18ad9a69-15fb-4c1d-81e3-83039c295dcc",
   "metadata": {},
   "outputs": [
    {
     "data": {
      "text/plain": [
       "444     0.35\n",
       "646     0.26\n",
       "1790    0.29\n",
       "1043    0.65\n",
       "1417    0.43\n",
       "Name: Overall_Risk_Score, dtype: float64"
      ]
     },
     "execution_count": 95,
     "metadata": {},
     "output_type": "execute_result"
    }
   ],
   "source": [
    "cancer_risk_factors_labels[:5].round(2)"
   ]
  },
  {
   "cell_type": "code",
   "execution_count": 98,
   "id": "f30d4f57-4657-4a3b-9d7d-27f8c83a0efa",
   "metadata": {},
   "outputs": [],
   "source": [
    "error_ratios = pred[:5] / cancer_risk_factors_labels.iloc[:5].values - 1"
   ]
  },
  {
   "cell_type": "code",
   "execution_count": 100,
   "id": "9549c869-9401-4183-856d-99e3d694f5eb",
   "metadata": {},
   "outputs": [
    {
     "data": {
      "text/plain": [
       "array([  3.65458353,  12.24640904,  29.72353539, -10.86826052,\n",
       "         1.51275385])"
      ]
     },
     "execution_count": 100,
     "metadata": {},
     "output_type": "execute_result"
    }
   ],
   "source": [
    "error_ratios * 100"
   ]
  },
  {
   "cell_type": "code",
   "execution_count": 103,
   "id": "334e7eda-98fb-4ed5-9da2-737967621399",
   "metadata": {},
   "outputs": [
    {
     "data": {
      "text/plain": [
       "0.04957679048398814"
      ]
     },
     "execution_count": 103,
     "metadata": {},
     "output_type": "execute_result"
    }
   ],
   "source": [
    "from sklearn.metrics import mean_squared_error\n",
    "lin_rmse = mean_squared_error(cancer_risk_factors_labels, pred, squared=False)\n",
    "lin_rmse"
   ]
  },
  {
   "cell_type": "markdown",
   "id": "e9abc41d-a84f-4a85-a03b-9b9aa24f9baf",
   "metadata": {},
   "source": [
    "### cross_validation for better evaluation"
   ]
  },
  {
   "cell_type": "code",
   "execution_count": 109,
   "id": "670dd21a-931e-4d1a-b43c-6a4e9aae7882",
   "metadata": {},
   "outputs": [],
   "source": [
    "from sklearn.model_selection import cross_val_score\n",
    "\n",
    "scores = -cross_val_score(lin_reg, cancer_risk_factors, cancer_risk_factors_labels,\n",
    "                              scoring=\"neg_root_mean_squared_error\", cv=10)"
   ]
  },
  {
   "cell_type": "code",
   "execution_count": 110,
   "id": "c167a26f-6128-49ef-8961-451e53600e35",
   "metadata": {},
   "outputs": [
    {
     "data": {
      "text/plain": [
       "count    10.000000\n",
       "mean      0.050141\n",
       "std       0.002701\n",
       "min       0.045559\n",
       "25%       0.048395\n",
       "50%       0.049432\n",
       "75%       0.052444\n",
       "max       0.054362\n",
       "dtype: float64"
      ]
     },
     "execution_count": 110,
     "metadata": {},
     "output_type": "execute_result"
    }
   ],
   "source": [
    "pd.Series(scores).describe()"
   ]
  },
  {
   "cell_type": "markdown",
   "id": "dc38296d-b08c-4a62-b939-c28a2c283906",
   "metadata": {},
   "source": [
    "this looks pretty good but i am  going to test other models later"
   ]
  },
  {
   "cell_type": "code",
   "execution_count": null,
   "id": "9b215d63-6140-47cc-be40-7426569b4180",
   "metadata": {},
   "outputs": [],
   "source": []
  }
 ],
 "metadata": {
  "kernelspec": {
   "display_name": "Python 3 (ipykernel)",
   "language": "python",
   "name": "python3"
  },
  "language_info": {
   "codemirror_mode": {
    "name": "ipython",
    "version": 3
   },
   "file_extension": ".py",
   "mimetype": "text/x-python",
   "name": "python",
   "nbconvert_exporter": "python",
   "pygments_lexer": "ipython3",
   "version": "3.11.13"
  }
 },
 "nbformat": 4,
 "nbformat_minor": 5
}
